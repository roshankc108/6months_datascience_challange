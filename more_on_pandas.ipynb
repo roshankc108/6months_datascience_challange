{
 "cells": [
  {
   "cell_type": "markdown",
   "id": "706b3426-1e18-4b15-ac80-d8b742ffd456",
   "metadata": {},
   "source": [
    "# LCC Traning Pandas"
   ]
  },
  {
   "cell_type": "code",
   "execution_count": 1,
   "id": "5917a74e-9142-4f92-9112-f6f55263e60f",
   "metadata": {
    "tags": []
   },
   "outputs": [],
   "source": [
    "import pandas as pd\n",
    "import os"
   ]
  },
  {
   "cell_type": "code",
   "execution_count": 4,
   "id": "e7833697-0276-4159-adbb-9baae8b1e87d",
   "metadata": {
    "tags": []
   },
   "outputs": [],
   "source": [
    "file_path = os.path.join(os.getcwd(),\"csv_data\",\"weather_data.csv\")"
   ]
  },
  {
   "cell_type": "code",
   "execution_count": 5,
   "id": "c3f558d2-fe14-477b-bc16-a4895a0cba0d",
   "metadata": {
    "tags": []
   },
   "outputs": [
    {
     "data": {
      "text/plain": [
       "'C:\\\\Users\\\\Roshan KC\\\\Downloads\\\\6months_datascience_challange\\\\csv_data\\\\weather_data.csv'"
      ]
     },
     "execution_count": 5,
     "metadata": {},
     "output_type": "execute_result"
    }
   ],
   "source": [
    "file_path"
   ]
  },
  {
   "cell_type": "code",
   "execution_count": 6,
   "id": "2907ab4c-6fcc-440f-80b5-f4aaf47e42d6",
   "metadata": {
    "tags": []
   },
   "outputs": [],
   "source": [
    "df = pd.read_csv(file_path,skiprows=2)\n",
    "#here we are using skip rows because 2 have garbage values in weather data in first two rows"
   ]
  },
  {
   "cell_type": "code",
   "execution_count": 8,
   "id": "522c89f3-23a7-40d5-a77c-1686fe497aec",
   "metadata": {
    "tags": []
   },
   "outputs": [
    {
     "data": {
      "text/html": [
       "<div>\n",
       "<style scoped>\n",
       "    .dataframe tbody tr th:only-of-type {\n",
       "        vertical-align: middle;\n",
       "    }\n",
       "\n",
       "    .dataframe tbody tr th {\n",
       "        vertical-align: top;\n",
       "    }\n",
       "\n",
       "    .dataframe thead th {\n",
       "        text-align: right;\n",
       "    }\n",
       "</style>\n",
       "<table border=\"1\" class=\"dataframe\">\n",
       "  <thead>\n",
       "    <tr style=\"text-align: right;\">\n",
       "      <th></th>\n",
       "      <th>day</th>\n",
       "      <th>temperature</th>\n",
       "      <th>windspeed</th>\n",
       "      <th>event</th>\n",
       "    </tr>\n",
       "  </thead>\n",
       "  <tbody>\n",
       "    <tr>\n",
       "      <th>0</th>\n",
       "      <td>1/1/2017</td>\n",
       "      <td>32</td>\n",
       "      <td>6</td>\n",
       "      <td>Rain</td>\n",
       "    </tr>\n",
       "    <tr>\n",
       "      <th>1</th>\n",
       "      <td>1/4/2017</td>\n",
       "      <td>not available</td>\n",
       "      <td>9</td>\n",
       "      <td>Sunny</td>\n",
       "    </tr>\n",
       "  </tbody>\n",
       "</table>\n",
       "</div>"
      ],
      "text/plain": [
       "        day    temperature windspeed  event\n",
       "0  1/1/2017             32         6   Rain\n",
       "1  1/4/2017  not available         9  Sunny"
      ]
     },
     "execution_count": 8,
     "metadata": {},
     "output_type": "execute_result"
    }
   ],
   "source": [
    "df.head(2)"
   ]
  },
  {
   "cell_type": "code",
   "execution_count": 9,
   "id": "44b40c44-e621-445b-959c-f2c8510ea4ee",
   "metadata": {
    "tags": []
   },
   "outputs": [
    {
     "data": {
      "text/plain": [
       "Index(['day', 'temperature', 'windspeed', 'event'], dtype='object')"
      ]
     },
     "execution_count": 9,
     "metadata": {},
     "output_type": "execute_result"
    }
   ],
   "source": [
    "df.columns"
   ]
  },
  {
   "cell_type": "code",
   "execution_count": 11,
   "id": "14ffedcb-e280-43f5-babd-8fb86cdb725b",
   "metadata": {
    "tags": []
   },
   "outputs": [
    {
     "data": {
      "text/plain": [
       "array([['1/1/2017', '32', '6', 'Rain'],\n",
       "       ['1/4/2017', 'not available', '9', 'Sunny'],\n",
       "       ['1/5/2017', '-1', 'not measured', 'Snow'],\n",
       "       ['1/6/2017', 'not available', '7', 'no event'],\n",
       "       ['1/7/2017', '32', 'not measured', 'Rain'],\n",
       "       ['1/8/2017', 'not available', 'not measured', 'Sunny'],\n",
       "       ['1/9/2017', 'not available', 'not measured', 'no event'],\n",
       "       ['1/10/2017', '34', '8', 'Cloudy'],\n",
       "       ['1/11/2017', '-4', '-1', 'Snow'],\n",
       "       ['1/12/2017', '26', '12', 'Sunny'],\n",
       "       ['1/13/2017', '12', '12', 'Rainy'],\n",
       "       ['1/11/2017', '-1', '12', 'Snow'],\n",
       "       ['1/14/2017', '40', '-1', 'Sunny']], dtype=object)"
      ]
     },
     "execution_count": 11,
     "metadata": {},
     "output_type": "execute_result"
    }
   ],
   "source": [
    "df.values"
   ]
  },
  {
   "cell_type": "code",
   "execution_count": null,
   "id": "3c3ef45a-4f14-4c86-b139-a8588a037591",
   "metadata": {},
   "outputs": [],
   "source": []
  },
  {
   "cell_type": "code",
   "execution_count": 12,
   "id": "17c687bb-8395-4952-94cb-a544f1d2a213",
   "metadata": {
    "tags": []
   },
   "outputs": [
    {
     "data": {
      "text/plain": [
       "day            object\n",
       "temperature    object\n",
       "windspeed      object\n",
       "event          object\n",
       "dtype: object"
      ]
     },
     "execution_count": 12,
     "metadata": {},
     "output_type": "execute_result"
    }
   ],
   "source": [
    "df.dtypes"
   ]
  },
  {
   "cell_type": "code",
   "execution_count": 15,
   "id": "a4c9aac7-1a97-437b-8e9d-97b180f94e60",
   "metadata": {
    "tags": []
   },
   "outputs": [
    {
     "data": {
      "text/plain": [
       "(13, 4)"
      ]
     },
     "execution_count": 15,
     "metadata": {},
     "output_type": "execute_result"
    }
   ],
   "source": [
    "df.shape # gives rows and columns"
   ]
  },
  {
   "cell_type": "markdown",
   "id": "71a37393-feeb-4746-aae2-db2ff28283ef",
   "metadata": {
    "tags": []
   },
   "source": [
    "## we can use df['column_name'] = list_values(must be equal to of rows) to add new colums od data"
   ]
  },
  {
   "cell_type": "code",
   "execution_count": 21,
   "id": "ce7155d3-c352-4b8d-b348-229b015ad870",
   "metadata": {
    "tags": []
   },
   "outputs": [],
   "source": [
    "address = ['Delhi', 'Bangalore', 'Chennai', 'Patna','Delhi', 'Bangalore', 'Chennai', 'Patna','Delhi', 'Bangalore', 'Chennai', 'Patna','KTM']\n",
    "df['address'] = address"
   ]
  },
  {
   "cell_type": "code",
   "execution_count": 22,
   "id": "0b8058fc-ae67-4827-9176-7e14be1cd1b2",
   "metadata": {
    "tags": []
   },
   "outputs": [
    {
     "data": {
      "text/html": [
       "<div>\n",
       "<style scoped>\n",
       "    .dataframe tbody tr th:only-of-type {\n",
       "        vertical-align: middle;\n",
       "    }\n",
       "\n",
       "    .dataframe tbody tr th {\n",
       "        vertical-align: top;\n",
       "    }\n",
       "\n",
       "    .dataframe thead th {\n",
       "        text-align: right;\n",
       "    }\n",
       "</style>\n",
       "<table border=\"1\" class=\"dataframe\">\n",
       "  <thead>\n",
       "    <tr style=\"text-align: right;\">\n",
       "      <th></th>\n",
       "      <th>day</th>\n",
       "      <th>temperature</th>\n",
       "      <th>windspeed</th>\n",
       "      <th>event</th>\n",
       "      <th>address</th>\n",
       "    </tr>\n",
       "  </thead>\n",
       "  <tbody>\n",
       "    <tr>\n",
       "      <th>0</th>\n",
       "      <td>1/1/2017</td>\n",
       "      <td>32</td>\n",
       "      <td>6</td>\n",
       "      <td>Rain</td>\n",
       "      <td>Delhi</td>\n",
       "    </tr>\n",
       "    <tr>\n",
       "      <th>1</th>\n",
       "      <td>1/4/2017</td>\n",
       "      <td>not available</td>\n",
       "      <td>9</td>\n",
       "      <td>Sunny</td>\n",
       "      <td>Bangalore</td>\n",
       "    </tr>\n",
       "    <tr>\n",
       "      <th>2</th>\n",
       "      <td>1/5/2017</td>\n",
       "      <td>-1</td>\n",
       "      <td>not measured</td>\n",
       "      <td>Snow</td>\n",
       "      <td>Chennai</td>\n",
       "    </tr>\n",
       "    <tr>\n",
       "      <th>3</th>\n",
       "      <td>1/6/2017</td>\n",
       "      <td>not available</td>\n",
       "      <td>7</td>\n",
       "      <td>no event</td>\n",
       "      <td>Patna</td>\n",
       "    </tr>\n",
       "    <tr>\n",
       "      <th>4</th>\n",
       "      <td>1/7/2017</td>\n",
       "      <td>32</td>\n",
       "      <td>not measured</td>\n",
       "      <td>Rain</td>\n",
       "      <td>Delhi</td>\n",
       "    </tr>\n",
       "    <tr>\n",
       "      <th>5</th>\n",
       "      <td>1/8/2017</td>\n",
       "      <td>not available</td>\n",
       "      <td>not measured</td>\n",
       "      <td>Sunny</td>\n",
       "      <td>Bangalore</td>\n",
       "    </tr>\n",
       "    <tr>\n",
       "      <th>6</th>\n",
       "      <td>1/9/2017</td>\n",
       "      <td>not available</td>\n",
       "      <td>not measured</td>\n",
       "      <td>no event</td>\n",
       "      <td>Chennai</td>\n",
       "    </tr>\n",
       "    <tr>\n",
       "      <th>7</th>\n",
       "      <td>1/10/2017</td>\n",
       "      <td>34</td>\n",
       "      <td>8</td>\n",
       "      <td>Cloudy</td>\n",
       "      <td>Patna</td>\n",
       "    </tr>\n",
       "    <tr>\n",
       "      <th>8</th>\n",
       "      <td>1/11/2017</td>\n",
       "      <td>-4</td>\n",
       "      <td>-1</td>\n",
       "      <td>Snow</td>\n",
       "      <td>Delhi</td>\n",
       "    </tr>\n",
       "    <tr>\n",
       "      <th>9</th>\n",
       "      <td>1/12/2017</td>\n",
       "      <td>26</td>\n",
       "      <td>12</td>\n",
       "      <td>Sunny</td>\n",
       "      <td>Bangalore</td>\n",
       "    </tr>\n",
       "    <tr>\n",
       "      <th>10</th>\n",
       "      <td>1/13/2017</td>\n",
       "      <td>12</td>\n",
       "      <td>12</td>\n",
       "      <td>Rainy</td>\n",
       "      <td>Chennai</td>\n",
       "    </tr>\n",
       "    <tr>\n",
       "      <th>11</th>\n",
       "      <td>1/11/2017</td>\n",
       "      <td>-1</td>\n",
       "      <td>12</td>\n",
       "      <td>Snow</td>\n",
       "      <td>Patna</td>\n",
       "    </tr>\n",
       "    <tr>\n",
       "      <th>12</th>\n",
       "      <td>1/14/2017</td>\n",
       "      <td>40</td>\n",
       "      <td>-1</td>\n",
       "      <td>Sunny</td>\n",
       "      <td>KTM</td>\n",
       "    </tr>\n",
       "  </tbody>\n",
       "</table>\n",
       "</div>"
      ],
      "text/plain": [
       "          day    temperature     windspeed     event    address\n",
       "0    1/1/2017             32             6      Rain      Delhi\n",
       "1    1/4/2017  not available             9     Sunny  Bangalore\n",
       "2    1/5/2017             -1  not measured      Snow    Chennai\n",
       "3    1/6/2017  not available             7  no event      Patna\n",
       "4    1/7/2017             32  not measured      Rain      Delhi\n",
       "5    1/8/2017  not available  not measured     Sunny  Bangalore\n",
       "6    1/9/2017  not available  not measured  no event    Chennai\n",
       "7   1/10/2017             34             8    Cloudy      Patna\n",
       "8   1/11/2017             -4            -1      Snow      Delhi\n",
       "9   1/12/2017             26            12     Sunny  Bangalore\n",
       "10  1/13/2017             12            12     Rainy    Chennai\n",
       "11  1/11/2017             -1            12      Snow      Patna\n",
       "12  1/14/2017             40            -1     Sunny        KTM"
      ]
     },
     "execution_count": 22,
     "metadata": {},
     "output_type": "execute_result"
    }
   ],
   "source": [
    "df"
   ]
  },
  {
   "cell_type": "code",
   "execution_count": null,
   "id": "569c7a78-6f97-44c9-b49e-afef1f7cac63",
   "metadata": {},
   "outputs": [],
   "source": []
  },
  {
   "cell_type": "code",
   "execution_count": 24,
   "id": "21f55514-d8d5-40bd-af94-65471b9fba08",
   "metadata": {
    "tags": []
   },
   "outputs": [
    {
     "data": {
      "text/plain": [
       "<bound method DataFrame.info of           day    temperature     windspeed     event    address\n",
       "0    1/1/2017             32             6      Rain      Delhi\n",
       "1    1/4/2017  not available             9     Sunny  Bangalore\n",
       "2    1/5/2017             -1  not measured      Snow    Chennai\n",
       "3    1/6/2017  not available             7  no event      Patna\n",
       "4    1/7/2017             32  not measured      Rain      Delhi\n",
       "5    1/8/2017  not available  not measured     Sunny  Bangalore\n",
       "6    1/9/2017  not available  not measured  no event    Chennai\n",
       "7   1/10/2017             34             8    Cloudy      Patna\n",
       "8   1/11/2017             -4            -1      Snow      Delhi\n",
       "9   1/12/2017             26            12     Sunny  Bangalore\n",
       "10  1/13/2017             12            12     Rainy    Chennai\n",
       "11  1/11/2017             -1            12      Snow      Patna\n",
       "12  1/14/2017             40            -1     Sunny        KTM>"
      ]
     },
     "execution_count": 24,
     "metadata": {},
     "output_type": "execute_result"
    }
   ],
   "source": [
    "df.info"
   ]
  },
  {
   "cell_type": "code",
   "execution_count": null,
   "id": "57879069-7a16-4c2e-a4f2-ac365940cbc7",
   "metadata": {},
   "outputs": [],
   "source": []
  },
  {
   "cell_type": "code",
   "execution_count": null,
   "id": "8fe08a59-40a5-431e-8df3-708b93650ded",
   "metadata": {},
   "outputs": [],
   "source": []
  },
  {
   "cell_type": "markdown",
   "id": "49107201-dd89-4a52-864b-0c0b7c83ad40",
   "metadata": {},
   "source": [
    "# checking the null values in the pandas dataframe"
   ]
  },
  {
   "cell_type": "code",
   "execution_count": 25,
   "id": "a88152bf-aeff-4019-989f-79f71e6d1a48",
   "metadata": {
    "tags": []
   },
   "outputs": [
    {
     "data": {
      "text/html": [
       "<div>\n",
       "<style scoped>\n",
       "    .dataframe tbody tr th:only-of-type {\n",
       "        vertical-align: middle;\n",
       "    }\n",
       "\n",
       "    .dataframe tbody tr th {\n",
       "        vertical-align: top;\n",
       "    }\n",
       "\n",
       "    .dataframe thead th {\n",
       "        text-align: right;\n",
       "    }\n",
       "</style>\n",
       "<table border=\"1\" class=\"dataframe\">\n",
       "  <thead>\n",
       "    <tr style=\"text-align: right;\">\n",
       "      <th></th>\n",
       "      <th>day</th>\n",
       "      <th>temperature</th>\n",
       "      <th>windspeed</th>\n",
       "      <th>event</th>\n",
       "      <th>address</th>\n",
       "    </tr>\n",
       "  </thead>\n",
       "  <tbody>\n",
       "    <tr>\n",
       "      <th>0</th>\n",
       "      <td>False</td>\n",
       "      <td>False</td>\n",
       "      <td>False</td>\n",
       "      <td>False</td>\n",
       "      <td>False</td>\n",
       "    </tr>\n",
       "    <tr>\n",
       "      <th>1</th>\n",
       "      <td>False</td>\n",
       "      <td>False</td>\n",
       "      <td>False</td>\n",
       "      <td>False</td>\n",
       "      <td>False</td>\n",
       "    </tr>\n",
       "    <tr>\n",
       "      <th>2</th>\n",
       "      <td>False</td>\n",
       "      <td>False</td>\n",
       "      <td>False</td>\n",
       "      <td>False</td>\n",
       "      <td>False</td>\n",
       "    </tr>\n",
       "    <tr>\n",
       "      <th>3</th>\n",
       "      <td>False</td>\n",
       "      <td>False</td>\n",
       "      <td>False</td>\n",
       "      <td>False</td>\n",
       "      <td>False</td>\n",
       "    </tr>\n",
       "    <tr>\n",
       "      <th>4</th>\n",
       "      <td>False</td>\n",
       "      <td>False</td>\n",
       "      <td>False</td>\n",
       "      <td>False</td>\n",
       "      <td>False</td>\n",
       "    </tr>\n",
       "    <tr>\n",
       "      <th>5</th>\n",
       "      <td>False</td>\n",
       "      <td>False</td>\n",
       "      <td>False</td>\n",
       "      <td>False</td>\n",
       "      <td>False</td>\n",
       "    </tr>\n",
       "    <tr>\n",
       "      <th>6</th>\n",
       "      <td>False</td>\n",
       "      <td>False</td>\n",
       "      <td>False</td>\n",
       "      <td>False</td>\n",
       "      <td>False</td>\n",
       "    </tr>\n",
       "    <tr>\n",
       "      <th>7</th>\n",
       "      <td>False</td>\n",
       "      <td>False</td>\n",
       "      <td>False</td>\n",
       "      <td>False</td>\n",
       "      <td>False</td>\n",
       "    </tr>\n",
       "    <tr>\n",
       "      <th>8</th>\n",
       "      <td>False</td>\n",
       "      <td>False</td>\n",
       "      <td>False</td>\n",
       "      <td>False</td>\n",
       "      <td>False</td>\n",
       "    </tr>\n",
       "    <tr>\n",
       "      <th>9</th>\n",
       "      <td>False</td>\n",
       "      <td>False</td>\n",
       "      <td>False</td>\n",
       "      <td>False</td>\n",
       "      <td>False</td>\n",
       "    </tr>\n",
       "    <tr>\n",
       "      <th>10</th>\n",
       "      <td>False</td>\n",
       "      <td>False</td>\n",
       "      <td>False</td>\n",
       "      <td>False</td>\n",
       "      <td>False</td>\n",
       "    </tr>\n",
       "    <tr>\n",
       "      <th>11</th>\n",
       "      <td>False</td>\n",
       "      <td>False</td>\n",
       "      <td>False</td>\n",
       "      <td>False</td>\n",
       "      <td>False</td>\n",
       "    </tr>\n",
       "    <tr>\n",
       "      <th>12</th>\n",
       "      <td>False</td>\n",
       "      <td>False</td>\n",
       "      <td>False</td>\n",
       "      <td>False</td>\n",
       "      <td>False</td>\n",
       "    </tr>\n",
       "  </tbody>\n",
       "</table>\n",
       "</div>"
      ],
      "text/plain": [
       "      day  temperature  windspeed  event  address\n",
       "0   False        False      False  False    False\n",
       "1   False        False      False  False    False\n",
       "2   False        False      False  False    False\n",
       "3   False        False      False  False    False\n",
       "4   False        False      False  False    False\n",
       "5   False        False      False  False    False\n",
       "6   False        False      False  False    False\n",
       "7   False        False      False  False    False\n",
       "8   False        False      False  False    False\n",
       "9   False        False      False  False    False\n",
       "10  False        False      False  False    False\n",
       "11  False        False      False  False    False\n",
       "12  False        False      False  False    False"
      ]
     },
     "execution_count": 25,
     "metadata": {},
     "output_type": "execute_result"
    }
   ],
   "source": [
    "df.isnull()"
   ]
  },
  {
   "cell_type": "code",
   "execution_count": 28,
   "id": "37af012b-1d62-400b-866a-7e33730cbb8e",
   "metadata": {
    "tags": []
   },
   "outputs": [
    {
     "data": {
      "text/plain": [
       "day            0\n",
       "temperature    0\n",
       "windspeed      0\n",
       "event          0\n",
       "address        0\n",
       "dtype: int64"
      ]
     },
     "execution_count": 28,
     "metadata": {},
     "output_type": "execute_result"
    }
   ],
   "source": [
    "df.isnull().sum()"
   ]
  },
  {
   "cell_type": "markdown",
   "id": "30d0d1bf-e869-4035-a74e-a11253dc1e19",
   "metadata": {
    "tags": []
   },
   "source": [
    "##  Note: isnull finds true or flas and return false for NaN and sum() fucntion counts the nanm"
   ]
  },
  {
   "cell_type": "code",
   "execution_count": null,
   "id": "d49d3c2d-294e-4456-9123-1795435722f9",
   "metadata": {},
   "outputs": [],
   "source": []
  },
  {
   "cell_type": "code",
   "execution_count": 30,
   "id": "dcbabbd5-e063-4e81-bfbd-4aee9d64d370",
   "metadata": {
    "tags": []
   },
   "outputs": [
    {
     "data": {
      "text/html": [
       "<div>\n",
       "<style scoped>\n",
       "    .dataframe tbody tr th:only-of-type {\n",
       "        vertical-align: middle;\n",
       "    }\n",
       "\n",
       "    .dataframe tbody tr th {\n",
       "        vertical-align: top;\n",
       "    }\n",
       "\n",
       "    .dataframe thead th {\n",
       "        text-align: right;\n",
       "    }\n",
       "</style>\n",
       "<table border=\"1\" class=\"dataframe\">\n",
       "  <thead>\n",
       "    <tr style=\"text-align: right;\">\n",
       "      <th></th>\n",
       "      <th>day</th>\n",
       "      <th>temperature</th>\n",
       "      <th>windspeed</th>\n",
       "      <th>event</th>\n",
       "      <th>address</th>\n",
       "    </tr>\n",
       "  </thead>\n",
       "  <tbody>\n",
       "    <tr>\n",
       "      <th>0</th>\n",
       "      <td>1/1/2017</td>\n",
       "      <td>32</td>\n",
       "      <td>6</td>\n",
       "      <td>Rain</td>\n",
       "      <td>Delhi</td>\n",
       "    </tr>\n",
       "    <tr>\n",
       "      <th>1</th>\n",
       "      <td>1/4/2017</td>\n",
       "      <td>not available</td>\n",
       "      <td>9</td>\n",
       "      <td>Sunny</td>\n",
       "      <td>Bangalore</td>\n",
       "    </tr>\n",
       "    <tr>\n",
       "      <th>2</th>\n",
       "      <td>1/5/2017</td>\n",
       "      <td>-1</td>\n",
       "      <td>not measured</td>\n",
       "      <td>Snow</td>\n",
       "      <td>Chennai</td>\n",
       "    </tr>\n",
       "    <tr>\n",
       "      <th>3</th>\n",
       "      <td>1/6/2017</td>\n",
       "      <td>not available</td>\n",
       "      <td>7</td>\n",
       "      <td>no event</td>\n",
       "      <td>Patna</td>\n",
       "    </tr>\n",
       "    <tr>\n",
       "      <th>4</th>\n",
       "      <td>1/7/2017</td>\n",
       "      <td>32</td>\n",
       "      <td>not measured</td>\n",
       "      <td>Rain</td>\n",
       "      <td>Delhi</td>\n",
       "    </tr>\n",
       "    <tr>\n",
       "      <th>5</th>\n",
       "      <td>1/8/2017</td>\n",
       "      <td>not available</td>\n",
       "      <td>not measured</td>\n",
       "      <td>Sunny</td>\n",
       "      <td>Bangalore</td>\n",
       "    </tr>\n",
       "    <tr>\n",
       "      <th>6</th>\n",
       "      <td>1/9/2017</td>\n",
       "      <td>not available</td>\n",
       "      <td>not measured</td>\n",
       "      <td>no event</td>\n",
       "      <td>Chennai</td>\n",
       "    </tr>\n",
       "    <tr>\n",
       "      <th>7</th>\n",
       "      <td>1/10/2017</td>\n",
       "      <td>34</td>\n",
       "      <td>8</td>\n",
       "      <td>Cloudy</td>\n",
       "      <td>Patna</td>\n",
       "    </tr>\n",
       "    <tr>\n",
       "      <th>8</th>\n",
       "      <td>1/11/2017</td>\n",
       "      <td>-4</td>\n",
       "      <td>-1</td>\n",
       "      <td>Snow</td>\n",
       "      <td>Delhi</td>\n",
       "    </tr>\n",
       "    <tr>\n",
       "      <th>9</th>\n",
       "      <td>1/12/2017</td>\n",
       "      <td>26</td>\n",
       "      <td>12</td>\n",
       "      <td>Sunny</td>\n",
       "      <td>Bangalore</td>\n",
       "    </tr>\n",
       "    <tr>\n",
       "      <th>10</th>\n",
       "      <td>1/13/2017</td>\n",
       "      <td>12</td>\n",
       "      <td>12</td>\n",
       "      <td>Rainy</td>\n",
       "      <td>Chennai</td>\n",
       "    </tr>\n",
       "    <tr>\n",
       "      <th>11</th>\n",
       "      <td>1/11/2017</td>\n",
       "      <td>-1</td>\n",
       "      <td>12</td>\n",
       "      <td>Snow</td>\n",
       "      <td>Patna</td>\n",
       "    </tr>\n",
       "    <tr>\n",
       "      <th>12</th>\n",
       "      <td>1/14/2017</td>\n",
       "      <td>40</td>\n",
       "      <td>-1</td>\n",
       "      <td>Sunny</td>\n",
       "      <td>KTM</td>\n",
       "    </tr>\n",
       "  </tbody>\n",
       "</table>\n",
       "</div>"
      ],
      "text/plain": [
       "          day    temperature     windspeed     event    address\n",
       "0    1/1/2017             32             6      Rain      Delhi\n",
       "1    1/4/2017  not available             9     Sunny  Bangalore\n",
       "2    1/5/2017             -1  not measured      Snow    Chennai\n",
       "3    1/6/2017  not available             7  no event      Patna\n",
       "4    1/7/2017             32  not measured      Rain      Delhi\n",
       "5    1/8/2017  not available  not measured     Sunny  Bangalore\n",
       "6    1/9/2017  not available  not measured  no event    Chennai\n",
       "7   1/10/2017             34             8    Cloudy      Patna\n",
       "8   1/11/2017             -4            -1      Snow      Delhi\n",
       "9   1/12/2017             26            12     Sunny  Bangalore\n",
       "10  1/13/2017             12            12     Rainy    Chennai\n",
       "11  1/11/2017             -1            12      Snow      Patna\n",
       "12  1/14/2017             40            -1     Sunny        KTM"
      ]
     },
     "execution_count": 30,
     "metadata": {},
     "output_type": "execute_result"
    }
   ],
   "source": [
    "df"
   ]
  },
  {
   "cell_type": "markdown",
   "id": "0bf5b713-de83-448e-b572-8fd22be87ddc",
   "metadata": {
    "tags": []
   },
   "source": [
    "# to set day as indexm"
   ]
  },
  {
   "cell_type": "code",
   "execution_count": 34,
   "id": "10fe4ca4-ba0b-4516-b85e-faa08fa82dd0",
   "metadata": {
    "tags": []
   },
   "outputs": [],
   "source": [
    "new_weather_data = df.set_index('day')"
   ]
  },
  {
   "cell_type": "code",
   "execution_count": 39,
   "id": "96f7e695-a28d-4fcb-99b9-22749d26b79a",
   "metadata": {
    "tags": []
   },
   "outputs": [
    {
     "data": {
      "text/html": [
       "<div>\n",
       "<style scoped>\n",
       "    .dataframe tbody tr th:only-of-type {\n",
       "        vertical-align: middle;\n",
       "    }\n",
       "\n",
       "    .dataframe tbody tr th {\n",
       "        vertical-align: top;\n",
       "    }\n",
       "\n",
       "    .dataframe thead th {\n",
       "        text-align: right;\n",
       "    }\n",
       "</style>\n",
       "<table border=\"1\" class=\"dataframe\">\n",
       "  <thead>\n",
       "    <tr style=\"text-align: right;\">\n",
       "      <th></th>\n",
       "      <th>temperature</th>\n",
       "      <th>windspeed</th>\n",
       "      <th>event</th>\n",
       "      <th>address</th>\n",
       "    </tr>\n",
       "    <tr>\n",
       "      <th>day</th>\n",
       "      <th></th>\n",
       "      <th></th>\n",
       "      <th></th>\n",
       "      <th></th>\n",
       "    </tr>\n",
       "  </thead>\n",
       "  <tbody>\n",
       "    <tr>\n",
       "      <th>1/1/2017</th>\n",
       "      <td>32</td>\n",
       "      <td>6</td>\n",
       "      <td>Rain</td>\n",
       "      <td>Delhi</td>\n",
       "    </tr>\n",
       "    <tr>\n",
       "      <th>1/4/2017</th>\n",
       "      <td>not available</td>\n",
       "      <td>9</td>\n",
       "      <td>Sunny</td>\n",
       "      <td>Bangalore</td>\n",
       "    </tr>\n",
       "    <tr>\n",
       "      <th>1/5/2017</th>\n",
       "      <td>-1</td>\n",
       "      <td>not measured</td>\n",
       "      <td>Snow</td>\n",
       "      <td>Chennai</td>\n",
       "    </tr>\n",
       "    <tr>\n",
       "      <th>1/6/2017</th>\n",
       "      <td>not available</td>\n",
       "      <td>7</td>\n",
       "      <td>no event</td>\n",
       "      <td>Patna</td>\n",
       "    </tr>\n",
       "    <tr>\n",
       "      <th>1/7/2017</th>\n",
       "      <td>32</td>\n",
       "      <td>not measured</td>\n",
       "      <td>Rain</td>\n",
       "      <td>Delhi</td>\n",
       "    </tr>\n",
       "    <tr>\n",
       "      <th>1/8/2017</th>\n",
       "      <td>not available</td>\n",
       "      <td>not measured</td>\n",
       "      <td>Sunny</td>\n",
       "      <td>Bangalore</td>\n",
       "    </tr>\n",
       "    <tr>\n",
       "      <th>1/9/2017</th>\n",
       "      <td>not available</td>\n",
       "      <td>not measured</td>\n",
       "      <td>no event</td>\n",
       "      <td>Chennai</td>\n",
       "    </tr>\n",
       "    <tr>\n",
       "      <th>1/10/2017</th>\n",
       "      <td>34</td>\n",
       "      <td>8</td>\n",
       "      <td>Cloudy</td>\n",
       "      <td>Patna</td>\n",
       "    </tr>\n",
       "    <tr>\n",
       "      <th>1/11/2017</th>\n",
       "      <td>-4</td>\n",
       "      <td>-1</td>\n",
       "      <td>Snow</td>\n",
       "      <td>Delhi</td>\n",
       "    </tr>\n",
       "    <tr>\n",
       "      <th>1/12/2017</th>\n",
       "      <td>26</td>\n",
       "      <td>12</td>\n",
       "      <td>Sunny</td>\n",
       "      <td>Bangalore</td>\n",
       "    </tr>\n",
       "    <tr>\n",
       "      <th>1/13/2017</th>\n",
       "      <td>12</td>\n",
       "      <td>12</td>\n",
       "      <td>Rainy</td>\n",
       "      <td>Chennai</td>\n",
       "    </tr>\n",
       "    <tr>\n",
       "      <th>1/11/2017</th>\n",
       "      <td>-1</td>\n",
       "      <td>12</td>\n",
       "      <td>Snow</td>\n",
       "      <td>Patna</td>\n",
       "    </tr>\n",
       "    <tr>\n",
       "      <th>1/14/2017</th>\n",
       "      <td>40</td>\n",
       "      <td>-1</td>\n",
       "      <td>Sunny</td>\n",
       "      <td>KTM</td>\n",
       "    </tr>\n",
       "  </tbody>\n",
       "</table>\n",
       "</div>"
      ],
      "text/plain": [
       "             temperature     windspeed     event    address\n",
       "day                                                        \n",
       "1/1/2017              32             6      Rain      Delhi\n",
       "1/4/2017   not available             9     Sunny  Bangalore\n",
       "1/5/2017              -1  not measured      Snow    Chennai\n",
       "1/6/2017   not available             7  no event      Patna\n",
       "1/7/2017              32  not measured      Rain      Delhi\n",
       "1/8/2017   not available  not measured     Sunny  Bangalore\n",
       "1/9/2017   not available  not measured  no event    Chennai\n",
       "1/10/2017             34             8    Cloudy      Patna\n",
       "1/11/2017             -4            -1      Snow      Delhi\n",
       "1/12/2017             26            12     Sunny  Bangalore\n",
       "1/13/2017             12            12     Rainy    Chennai\n",
       "1/11/2017             -1            12      Snow      Patna\n",
       "1/14/2017             40            -1     Sunny        KTM"
      ]
     },
     "execution_count": 39,
     "metadata": {},
     "output_type": "execute_result"
    }
   ],
   "source": [
    "new_weather_data"
   ]
  },
  {
   "cell_type": "code",
   "execution_count": 40,
   "id": "e0dd8d1b-1796-434e-a819-3c0c31bf9865",
   "metadata": {
    "tags": []
   },
   "outputs": [
    {
     "ename": "TypeError",
     "evalue": "no numeric data to plot",
     "output_type": "error",
     "traceback": [
      "\u001b[1;31m---------------------------------------------------------------------------\u001b[0m",
      "\u001b[1;31mTypeError\u001b[0m                                 Traceback (most recent call last)",
      "Cell \u001b[1;32mIn[40], line 1\u001b[0m\n\u001b[1;32m----> 1\u001b[0m new_weather_data[\u001b[38;5;124m'\u001b[39m\u001b[38;5;124mtemperature\u001b[39m\u001b[38;5;124m'\u001b[39m]\u001b[38;5;241m.\u001b[39mplot()\n",
      "File \u001b[1;32mC:\\ProgramData\\anaconda3\\Lib\\site-packages\\pandas\\plotting\\_core.py:1000\u001b[0m, in \u001b[0;36mPlotAccessor.__call__\u001b[1;34m(self, *args, **kwargs)\u001b[0m\n\u001b[0;32m    997\u001b[0m             label_name \u001b[38;5;241m=\u001b[39m label_kw \u001b[38;5;129;01mor\u001b[39;00m data\u001b[38;5;241m.\u001b[39mcolumns\n\u001b[0;32m    998\u001b[0m             data\u001b[38;5;241m.\u001b[39mcolumns \u001b[38;5;241m=\u001b[39m label_name\n\u001b[1;32m-> 1000\u001b[0m \u001b[38;5;28;01mreturn\u001b[39;00m plot_backend\u001b[38;5;241m.\u001b[39mplot(data, kind\u001b[38;5;241m=\u001b[39mkind, \u001b[38;5;241m*\u001b[39m\u001b[38;5;241m*\u001b[39mkwargs)\n",
      "File \u001b[1;32mC:\\ProgramData\\anaconda3\\Lib\\site-packages\\pandas\\plotting\\_matplotlib\\__init__.py:71\u001b[0m, in \u001b[0;36mplot\u001b[1;34m(data, kind, **kwargs)\u001b[0m\n\u001b[0;32m     69\u001b[0m         kwargs[\u001b[38;5;124m\"\u001b[39m\u001b[38;5;124max\u001b[39m\u001b[38;5;124m\"\u001b[39m] \u001b[38;5;241m=\u001b[39m \u001b[38;5;28mgetattr\u001b[39m(ax, \u001b[38;5;124m\"\u001b[39m\u001b[38;5;124mleft_ax\u001b[39m\u001b[38;5;124m\"\u001b[39m, ax)\n\u001b[0;32m     70\u001b[0m plot_obj \u001b[38;5;241m=\u001b[39m PLOT_CLASSES[kind](data, \u001b[38;5;241m*\u001b[39m\u001b[38;5;241m*\u001b[39mkwargs)\n\u001b[1;32m---> 71\u001b[0m plot_obj\u001b[38;5;241m.\u001b[39mgenerate()\n\u001b[0;32m     72\u001b[0m plot_obj\u001b[38;5;241m.\u001b[39mdraw()\n\u001b[0;32m     73\u001b[0m \u001b[38;5;28;01mreturn\u001b[39;00m plot_obj\u001b[38;5;241m.\u001b[39mresult\n",
      "File \u001b[1;32mC:\\ProgramData\\anaconda3\\Lib\\site-packages\\pandas\\plotting\\_matplotlib\\core.py:450\u001b[0m, in \u001b[0;36mMPLPlot.generate\u001b[1;34m(self)\u001b[0m\n\u001b[0;32m    448\u001b[0m \u001b[38;5;28;01mdef\u001b[39;00m \u001b[38;5;21mgenerate\u001b[39m(\u001b[38;5;28mself\u001b[39m) \u001b[38;5;241m-\u001b[39m\u001b[38;5;241m>\u001b[39m \u001b[38;5;28;01mNone\u001b[39;00m:\n\u001b[0;32m    449\u001b[0m     \u001b[38;5;28mself\u001b[39m\u001b[38;5;241m.\u001b[39m_args_adjust()\n\u001b[1;32m--> 450\u001b[0m     \u001b[38;5;28mself\u001b[39m\u001b[38;5;241m.\u001b[39m_compute_plot_data()\n\u001b[0;32m    451\u001b[0m     \u001b[38;5;28mself\u001b[39m\u001b[38;5;241m.\u001b[39m_setup_subplots()\n\u001b[0;32m    452\u001b[0m     \u001b[38;5;28mself\u001b[39m\u001b[38;5;241m.\u001b[39m_make_plot()\n",
      "File \u001b[1;32mC:\\ProgramData\\anaconda3\\Lib\\site-packages\\pandas\\plotting\\_matplotlib\\core.py:635\u001b[0m, in \u001b[0;36mMPLPlot._compute_plot_data\u001b[1;34m(self)\u001b[0m\n\u001b[0;32m    633\u001b[0m \u001b[38;5;66;03m# no non-numeric frames or series allowed\u001b[39;00m\n\u001b[0;32m    634\u001b[0m \u001b[38;5;28;01mif\u001b[39;00m is_empty:\n\u001b[1;32m--> 635\u001b[0m     \u001b[38;5;28;01mraise\u001b[39;00m \u001b[38;5;167;01mTypeError\u001b[39;00m(\u001b[38;5;124m\"\u001b[39m\u001b[38;5;124mno numeric data to plot\u001b[39m\u001b[38;5;124m\"\u001b[39m)\n\u001b[0;32m    637\u001b[0m \u001b[38;5;28mself\u001b[39m\u001b[38;5;241m.\u001b[39mdata \u001b[38;5;241m=\u001b[39m numeric_data\u001b[38;5;241m.\u001b[39mapply(\u001b[38;5;28mself\u001b[39m\u001b[38;5;241m.\u001b[39m_convert_to_ndarray)\n",
      "\u001b[1;31mTypeError\u001b[0m: no numeric data to plot"
     ]
    }
   ],
   "source": [
    "new_weather_data['temperature'].plot()"
   ]
  },
  {
   "cell_type": "markdown",
   "id": "4ffbbce4-3071-4074-93bc-9ef59ac4e3d8",
   "metadata": {},
   "source": [
    "##  yo error aaunu ko karan chai , diyeko CSV ma numeric data nahunu ho , please use another CSV with Nan instead of string message to get plot"
   ]
  },
  {
   "cell_type": "code",
   "execution_count": null,
   "id": "bfae1716-4cd4-474d-a9ac-1dc6b9c99aa5",
   "metadata": {},
   "outputs": [],
   "source": []
  },
  {
   "cell_type": "markdown",
   "id": "9ec487a6-1dd1-4997-8058-d5a75e1efc19",
   "metadata": {
    "tags": []
   },
   "source": [
    "# to select only one columnmm\n",
    "\n"
   ]
  },
  {
   "cell_type": "code",
   "execution_count": 42,
   "id": "ec60e798-20f6-4424-b86f-f453c3485e3a",
   "metadata": {
    "tags": []
   },
   "outputs": [
    {
     "data": {
      "text/plain": [
       "day\n",
       "1/1/2017         Rain\n",
       "1/4/2017        Sunny\n",
       "1/5/2017         Snow\n",
       "1/6/2017     no event\n",
       "1/7/2017         Rain\n",
       "1/8/2017        Sunny\n",
       "1/9/2017     no event\n",
       "1/10/2017      Cloudy\n",
       "1/11/2017        Snow\n",
       "1/12/2017       Sunny\n",
       "1/13/2017       Rainy\n",
       "1/11/2017        Snow\n",
       "1/14/2017       Sunny\n",
       "Name: event, dtype: object"
      ]
     },
     "execution_count": 42,
     "metadata": {},
     "output_type": "execute_result"
    }
   ],
   "source": [
    "new_weather_data['event']"
   ]
  },
  {
   "cell_type": "markdown",
   "id": "166b283a-6084-41ac-8490-81467f556780",
   "metadata": {},
   "source": [
    "#  particular row particular column accessing "
   ]
  },
  {
   "cell_type": "code",
   "execution_count": 52,
   "id": "69cf9456-2511-4821-a5ce-f25db31570d0",
   "metadata": {
    "tags": []
   },
   "outputs": [],
   "source": [
    "nwd = df # df bhaneko purano weather data which was imported"
   ]
  },
  {
   "cell_type": "code",
   "execution_count": 54,
   "id": "d0b4f1e4-cdeb-43a6-8913-585094260934",
   "metadata": {
    "tags": []
   },
   "outputs": [
    {
     "data": {
      "text/plain": [
       "'Rain'"
      ]
     },
     "execution_count": 54,
     "metadata": {},
     "output_type": "execute_result"
    }
   ],
   "source": [
    "nwd.loc[0,'event'] "
   ]
  },
  {
   "cell_type": "markdown",
   "id": "a62226f6-e23d-4f13-930c-7d439d90f998",
   "metadata": {},
   "source": [
    "# .loc[row_index,\"column_name\"] is appropriate suntax and loc is used to locate"
   ]
  },
  {
   "cell_type": "code",
   "execution_count": 55,
   "id": "c0e53ebc-3728-4401-9feb-1b9fc99c0fbf",
   "metadata": {
    "tags": []
   },
   "outputs": [],
   "source": [
    "file_path = os.path.join(os.getcwd(),\"csv_data\",\"appointment_schedule.csv\")"
   ]
  },
  {
   "cell_type": "code",
   "execution_count": 56,
   "id": "4a71f5cd-7caa-4d1f-aaaf-b88346b428c1",
   "metadata": {
    "tags": []
   },
   "outputs": [
    {
     "data": {
      "text/plain": [
       "'C:\\\\Users\\\\Roshan KC\\\\Downloads\\\\6months_datascience_challange\\\\csv_data\\\\appointment_schedule.csv'"
      ]
     },
     "execution_count": 56,
     "metadata": {},
     "output_type": "execute_result"
    }
   ],
   "source": [
    "file_path"
   ]
  },
  {
   "cell_type": "code",
   "execution_count": 57,
   "id": "365167da-50ac-4df5-b6d0-cb8c0960c136",
   "metadata": {
    "tags": []
   },
   "outputs": [],
   "source": [
    "df = pd.read_csv(file_path)"
   ]
  },
  {
   "cell_type": "code",
   "execution_count": 58,
   "id": "6ec8a249-a5e0-4939-871f-cded21f7aad5",
   "metadata": {
    "tags": []
   },
   "outputs": [
    {
     "data": {
      "text/html": [
       "<div>\n",
       "<style scoped>\n",
       "    .dataframe tbody tr th:only-of-type {\n",
       "        vertical-align: middle;\n",
       "    }\n",
       "\n",
       "    .dataframe tbody tr th {\n",
       "        vertical-align: top;\n",
       "    }\n",
       "\n",
       "    .dataframe thead th {\n",
       "        text-align: right;\n",
       "    }\n",
       "</style>\n",
       "<table border=\"1\" class=\"dataframe\">\n",
       "  <thead>\n",
       "    <tr style=\"text-align: right;\">\n",
       "      <th></th>\n",
       "      <th>name</th>\n",
       "      <th>appointment_made_date</th>\n",
       "      <th>app_start_date</th>\n",
       "      <th>app_end_date</th>\n",
       "      <th>visitee_namelast</th>\n",
       "      <th>visitee_namefirst</th>\n",
       "      <th>meeting_room</th>\n",
       "      <th>description</th>\n",
       "    </tr>\n",
       "  </thead>\n",
       "  <tbody>\n",
       "    <tr>\n",
       "      <th>0</th>\n",
       "      <td>Joshua T. Blanton</td>\n",
       "      <td>2014-12-18T00:00:00</td>\n",
       "      <td>1/6/15 9:30</td>\n",
       "      <td>1/6/15 23:59</td>\n",
       "      <td>NaN</td>\n",
       "      <td>potus</td>\n",
       "      <td>west wing</td>\n",
       "      <td>JointService Military Honor Guard</td>\n",
       "    </tr>\n",
       "    <tr>\n",
       "      <th>1</th>\n",
       "      <td>Jack T. Gutting</td>\n",
       "      <td>2014-12-18T00:00:00</td>\n",
       "      <td>1/6/15 9:30</td>\n",
       "      <td>1/6/15 23:59</td>\n",
       "      <td>NaN</td>\n",
       "      <td>potus</td>\n",
       "      <td>west wing</td>\n",
       "      <td>JointService Military Honor Guard</td>\n",
       "    </tr>\n",
       "    <tr>\n",
       "      <th>2</th>\n",
       "      <td>Bradley T. Guiles</td>\n",
       "      <td>2014-12-18T00:00:00</td>\n",
       "      <td>1/6/15 9:30</td>\n",
       "      <td>1/6/15 23:59</td>\n",
       "      <td>NaN</td>\n",
       "      <td>potus</td>\n",
       "      <td>west wing</td>\n",
       "      <td>JointService Military Honor Guard</td>\n",
       "    </tr>\n",
       "    <tr>\n",
       "      <th>3</th>\n",
       "      <td>Loryn F. Grieb</td>\n",
       "      <td>2014-12-18T00:00:00</td>\n",
       "      <td>1/6/15 9:30</td>\n",
       "      <td>1/6/15 23:59</td>\n",
       "      <td>NaN</td>\n",
       "      <td>potus</td>\n",
       "      <td>west wing</td>\n",
       "      <td>JointService Military Honor Guard</td>\n",
       "    </tr>\n",
       "    <tr>\n",
       "      <th>4</th>\n",
       "      <td>Travis D. Gordon</td>\n",
       "      <td>2014-12-18T00:00:00</td>\n",
       "      <td>1/6/15 9:30</td>\n",
       "      <td>1/6/15 23:59</td>\n",
       "      <td>NaN</td>\n",
       "      <td>potus</td>\n",
       "      <td>west wing</td>\n",
       "      <td>JointService Military Honor Guard</td>\n",
       "    </tr>\n",
       "    <tr>\n",
       "      <th>...</th>\n",
       "      <td>...</td>\n",
       "      <td>...</td>\n",
       "      <td>...</td>\n",
       "      <td>...</td>\n",
       "      <td>...</td>\n",
       "      <td>...</td>\n",
       "      <td>...</td>\n",
       "      <td>...</td>\n",
       "    </tr>\n",
       "    <tr>\n",
       "      <th>580</th>\n",
       "      <td>Ryan J. Morgan</td>\n",
       "      <td>2015-01-09T00:00:00</td>\n",
       "      <td>1/16/15 10:00</td>\n",
       "      <td>1/16/15 23:59</td>\n",
       "      <td>NaN</td>\n",
       "      <td>potus</td>\n",
       "      <td>west wing</td>\n",
       "      <td>military honor guard</td>\n",
       "    </tr>\n",
       "    <tr>\n",
       "      <th>581</th>\n",
       "      <td>Alexander V. Nevsky</td>\n",
       "      <td>2015-01-09T00:00:00</td>\n",
       "      <td>1/16/15 10:00</td>\n",
       "      <td>1/16/15 23:59</td>\n",
       "      <td>NaN</td>\n",
       "      <td>potus</td>\n",
       "      <td>west wing</td>\n",
       "      <td>military honor guard</td>\n",
       "    </tr>\n",
       "    <tr>\n",
       "      <th>582</th>\n",
       "      <td>Montana J. Johnson</td>\n",
       "      <td>2015-01-09T00:00:00</td>\n",
       "      <td>1/16/15 10:00</td>\n",
       "      <td>1/16/15 23:59</td>\n",
       "      <td>NaN</td>\n",
       "      <td>potus</td>\n",
       "      <td>west wing</td>\n",
       "      <td>military honor guard</td>\n",
       "    </tr>\n",
       "    <tr>\n",
       "      <th>583</th>\n",
       "      <td>Joseph A. Pritchard</td>\n",
       "      <td>2015-01-09T00:00:00</td>\n",
       "      <td>1/16/15 10:00</td>\n",
       "      <td>1/16/15 23:59</td>\n",
       "      <td>NaN</td>\n",
       "      <td>potus</td>\n",
       "      <td>west wing</td>\n",
       "      <td>military honor guard</td>\n",
       "    </tr>\n",
       "    <tr>\n",
       "      <th>584</th>\n",
       "      <td>Martin O. Reina</td>\n",
       "      <td>2015-01-09T00:00:00</td>\n",
       "      <td>1/16/15 10:00</td>\n",
       "      <td>1/16/15 23:59</td>\n",
       "      <td>NaN</td>\n",
       "      <td>potus</td>\n",
       "      <td>west wing</td>\n",
       "      <td>military honor guard</td>\n",
       "    </tr>\n",
       "  </tbody>\n",
       "</table>\n",
       "<p>585 rows × 8 columns</p>\n",
       "</div>"
      ],
      "text/plain": [
       "                    name appointment_made_date app_start_date   app_end_date  \\\n",
       "0      Joshua T. Blanton   2014-12-18T00:00:00    1/6/15 9:30   1/6/15 23:59   \n",
       "1        Jack T. Gutting   2014-12-18T00:00:00    1/6/15 9:30   1/6/15 23:59   \n",
       "2      Bradley T. Guiles   2014-12-18T00:00:00    1/6/15 9:30   1/6/15 23:59   \n",
       "3         Loryn F. Grieb   2014-12-18T00:00:00    1/6/15 9:30   1/6/15 23:59   \n",
       "4       Travis D. Gordon   2014-12-18T00:00:00    1/6/15 9:30   1/6/15 23:59   \n",
       "..                   ...                   ...            ...            ...   \n",
       "580       Ryan J. Morgan   2015-01-09T00:00:00  1/16/15 10:00  1/16/15 23:59   \n",
       "581  Alexander V. Nevsky   2015-01-09T00:00:00  1/16/15 10:00  1/16/15 23:59   \n",
       "582   Montana J. Johnson   2015-01-09T00:00:00  1/16/15 10:00  1/16/15 23:59   \n",
       "583  Joseph A. Pritchard   2015-01-09T00:00:00  1/16/15 10:00  1/16/15 23:59   \n",
       "584      Martin O. Reina   2015-01-09T00:00:00  1/16/15 10:00  1/16/15 23:59   \n",
       "\n",
       "    visitee_namelast visitee_namefirst meeting_room  \\\n",
       "0                NaN             potus    west wing   \n",
       "1                NaN             potus    west wing   \n",
       "2                NaN             potus    west wing   \n",
       "3                NaN             potus    west wing   \n",
       "4                NaN             potus    west wing   \n",
       "..               ...               ...          ...   \n",
       "580              NaN             potus    west wing   \n",
       "581              NaN             potus    west wing   \n",
       "582              NaN             potus    west wing   \n",
       "583              NaN             potus    west wing   \n",
       "584              NaN             potus    west wing   \n",
       "\n",
       "                           description  \n",
       "0    JointService Military Honor Guard  \n",
       "1    JointService Military Honor Guard  \n",
       "2    JointService Military Honor Guard  \n",
       "3    JointService Military Honor Guard  \n",
       "4    JointService Military Honor Guard  \n",
       "..                                 ...  \n",
       "580               military honor guard  \n",
       "581               military honor guard  \n",
       "582               military honor guard  \n",
       "583               military honor guard  \n",
       "584               military honor guard  \n",
       "\n",
       "[585 rows x 8 columns]"
      ]
     },
     "execution_count": 58,
     "metadata": {},
     "output_type": "execute_result"
    }
   ],
   "source": [
    "df"
   ]
  },
  {
   "cell_type": "code",
   "execution_count": 60,
   "id": "38c74b08-a6ce-445a-ba8b-5c04452d8f7e",
   "metadata": {
    "tags": []
   },
   "outputs": [
    {
     "data": {
      "text/plain": [
       "(585, 8)"
      ]
     },
     "execution_count": 60,
     "metadata": {},
     "output_type": "execute_result"
    }
   ],
   "source": [
    "df.shape"
   ]
  },
  {
   "cell_type": "code",
   "execution_count": 61,
   "id": "9379a0e2-684b-457a-a9bf-fe37de32b2f1",
   "metadata": {
    "tags": []
   },
   "outputs": [
    {
     "data": {
      "text/plain": [
       "<bound method DataFrame.info of                     name appointment_made_date app_start_date   app_end_date  \\\n",
       "0      Joshua T. Blanton   2014-12-18T00:00:00    1/6/15 9:30   1/6/15 23:59   \n",
       "1        Jack T. Gutting   2014-12-18T00:00:00    1/6/15 9:30   1/6/15 23:59   \n",
       "2      Bradley T. Guiles   2014-12-18T00:00:00    1/6/15 9:30   1/6/15 23:59   \n",
       "3         Loryn F. Grieb   2014-12-18T00:00:00    1/6/15 9:30   1/6/15 23:59   \n",
       "4       Travis D. Gordon   2014-12-18T00:00:00    1/6/15 9:30   1/6/15 23:59   \n",
       "..                   ...                   ...            ...            ...   \n",
       "580       Ryan J. Morgan   2015-01-09T00:00:00  1/16/15 10:00  1/16/15 23:59   \n",
       "581  Alexander V. Nevsky   2015-01-09T00:00:00  1/16/15 10:00  1/16/15 23:59   \n",
       "582   Montana J. Johnson   2015-01-09T00:00:00  1/16/15 10:00  1/16/15 23:59   \n",
       "583  Joseph A. Pritchard   2015-01-09T00:00:00  1/16/15 10:00  1/16/15 23:59   \n",
       "584      Martin O. Reina   2015-01-09T00:00:00  1/16/15 10:00  1/16/15 23:59   \n",
       "\n",
       "    visitee_namelast visitee_namefirst meeting_room  \\\n",
       "0                NaN             potus    west wing   \n",
       "1                NaN             potus    west wing   \n",
       "2                NaN             potus    west wing   \n",
       "3                NaN             potus    west wing   \n",
       "4                NaN             potus    west wing   \n",
       "..               ...               ...          ...   \n",
       "580              NaN             potus    west wing   \n",
       "581              NaN             potus    west wing   \n",
       "582              NaN             potus    west wing   \n",
       "583              NaN             potus    west wing   \n",
       "584              NaN             potus    west wing   \n",
       "\n",
       "                           description  \n",
       "0    JointService Military Honor Guard  \n",
       "1    JointService Military Honor Guard  \n",
       "2    JointService Military Honor Guard  \n",
       "3    JointService Military Honor Guard  \n",
       "4    JointService Military Honor Guard  \n",
       "..                                 ...  \n",
       "580               military honor guard  \n",
       "581               military honor guard  \n",
       "582               military honor guard  \n",
       "583               military honor guard  \n",
       "584               military honor guard  \n",
       "\n",
       "[585 rows x 8 columns]>"
      ]
     },
     "execution_count": 61,
     "metadata": {},
     "output_type": "execute_result"
    }
   ],
   "source": [
    "df.info"
   ]
  },
  {
   "cell_type": "code",
   "execution_count": 63,
   "id": "5a4a12ac-5933-4367-b290-a82a9f005ed4",
   "metadata": {
    "tags": []
   },
   "outputs": [
    {
     "data": {
      "text/plain": [
       "name                     object\n",
       "appointment_made_date    object\n",
       "app_start_date           object\n",
       "app_end_date             object\n",
       "visitee_namelast         object\n",
       "visitee_namefirst        object\n",
       "meeting_room             object\n",
       "description              object\n",
       "dtype: object"
      ]
     },
     "execution_count": 63,
     "metadata": {},
     "output_type": "execute_result"
    }
   ],
   "source": [
    "df.dtypes"
   ]
  },
  {
   "cell_type": "code",
   "execution_count": 64,
   "id": "48623800-a59b-4f42-8872-8c1bd1d13645",
   "metadata": {
    "tags": []
   },
   "outputs": [
    {
     "data": {
      "text/html": [
       "<div>\n",
       "<style scoped>\n",
       "    .dataframe tbody tr th:only-of-type {\n",
       "        vertical-align: middle;\n",
       "    }\n",
       "\n",
       "    .dataframe tbody tr th {\n",
       "        vertical-align: top;\n",
       "    }\n",
       "\n",
       "    .dataframe thead th {\n",
       "        text-align: right;\n",
       "    }\n",
       "</style>\n",
       "<table border=\"1\" class=\"dataframe\">\n",
       "  <thead>\n",
       "    <tr style=\"text-align: right;\">\n",
       "      <th></th>\n",
       "      <th>name</th>\n",
       "      <th>appointment_made_date</th>\n",
       "      <th>app_start_date</th>\n",
       "      <th>app_end_date</th>\n",
       "      <th>visitee_namelast</th>\n",
       "      <th>visitee_namefirst</th>\n",
       "      <th>meeting_room</th>\n",
       "      <th>description</th>\n",
       "    </tr>\n",
       "  </thead>\n",
       "  <tbody>\n",
       "    <tr>\n",
       "      <th>0</th>\n",
       "      <td>Joshua T. Blanton</td>\n",
       "      <td>2014-12-18T00:00:00</td>\n",
       "      <td>1/6/15 9:30</td>\n",
       "      <td>1/6/15 23:59</td>\n",
       "      <td>NaN</td>\n",
       "      <td>potus</td>\n",
       "      <td>west wing</td>\n",
       "      <td>JointService Military Honor Guard</td>\n",
       "    </tr>\n",
       "    <tr>\n",
       "      <th>1</th>\n",
       "      <td>Jack T. Gutting</td>\n",
       "      <td>2014-12-18T00:00:00</td>\n",
       "      <td>1/6/15 9:30</td>\n",
       "      <td>1/6/15 23:59</td>\n",
       "      <td>NaN</td>\n",
       "      <td>potus</td>\n",
       "      <td>west wing</td>\n",
       "      <td>JointService Military Honor Guard</td>\n",
       "    </tr>\n",
       "    <tr>\n",
       "      <th>2</th>\n",
       "      <td>Bradley T. Guiles</td>\n",
       "      <td>2014-12-18T00:00:00</td>\n",
       "      <td>1/6/15 9:30</td>\n",
       "      <td>1/6/15 23:59</td>\n",
       "      <td>NaN</td>\n",
       "      <td>potus</td>\n",
       "      <td>west wing</td>\n",
       "      <td>JointService Military Honor Guard</td>\n",
       "    </tr>\n",
       "    <tr>\n",
       "      <th>3</th>\n",
       "      <td>Loryn F. Grieb</td>\n",
       "      <td>2014-12-18T00:00:00</td>\n",
       "      <td>1/6/15 9:30</td>\n",
       "      <td>1/6/15 23:59</td>\n",
       "      <td>NaN</td>\n",
       "      <td>potus</td>\n",
       "      <td>west wing</td>\n",
       "      <td>JointService Military Honor Guard</td>\n",
       "    </tr>\n",
       "    <tr>\n",
       "      <th>4</th>\n",
       "      <td>Travis D. Gordon</td>\n",
       "      <td>2014-12-18T00:00:00</td>\n",
       "      <td>1/6/15 9:30</td>\n",
       "      <td>1/6/15 23:59</td>\n",
       "      <td>NaN</td>\n",
       "      <td>potus</td>\n",
       "      <td>west wing</td>\n",
       "      <td>JointService Military Honor Guard</td>\n",
       "    </tr>\n",
       "    <tr>\n",
       "      <th>...</th>\n",
       "      <td>...</td>\n",
       "      <td>...</td>\n",
       "      <td>...</td>\n",
       "      <td>...</td>\n",
       "      <td>...</td>\n",
       "      <td>...</td>\n",
       "      <td>...</td>\n",
       "      <td>...</td>\n",
       "    </tr>\n",
       "    <tr>\n",
       "      <th>580</th>\n",
       "      <td>Ryan J. Morgan</td>\n",
       "      <td>2015-01-09T00:00:00</td>\n",
       "      <td>1/16/15 10:00</td>\n",
       "      <td>1/16/15 23:59</td>\n",
       "      <td>NaN</td>\n",
       "      <td>potus</td>\n",
       "      <td>west wing</td>\n",
       "      <td>military honor guard</td>\n",
       "    </tr>\n",
       "    <tr>\n",
       "      <th>581</th>\n",
       "      <td>Alexander V. Nevsky</td>\n",
       "      <td>2015-01-09T00:00:00</td>\n",
       "      <td>1/16/15 10:00</td>\n",
       "      <td>1/16/15 23:59</td>\n",
       "      <td>NaN</td>\n",
       "      <td>potus</td>\n",
       "      <td>west wing</td>\n",
       "      <td>military honor guard</td>\n",
       "    </tr>\n",
       "    <tr>\n",
       "      <th>582</th>\n",
       "      <td>Montana J. Johnson</td>\n",
       "      <td>2015-01-09T00:00:00</td>\n",
       "      <td>1/16/15 10:00</td>\n",
       "      <td>1/16/15 23:59</td>\n",
       "      <td>NaN</td>\n",
       "      <td>potus</td>\n",
       "      <td>west wing</td>\n",
       "      <td>military honor guard</td>\n",
       "    </tr>\n",
       "    <tr>\n",
       "      <th>583</th>\n",
       "      <td>Joseph A. Pritchard</td>\n",
       "      <td>2015-01-09T00:00:00</td>\n",
       "      <td>1/16/15 10:00</td>\n",
       "      <td>1/16/15 23:59</td>\n",
       "      <td>NaN</td>\n",
       "      <td>potus</td>\n",
       "      <td>west wing</td>\n",
       "      <td>military honor guard</td>\n",
       "    </tr>\n",
       "    <tr>\n",
       "      <th>584</th>\n",
       "      <td>Martin O. Reina</td>\n",
       "      <td>2015-01-09T00:00:00</td>\n",
       "      <td>1/16/15 10:00</td>\n",
       "      <td>1/16/15 23:59</td>\n",
       "      <td>NaN</td>\n",
       "      <td>potus</td>\n",
       "      <td>west wing</td>\n",
       "      <td>military honor guard</td>\n",
       "    </tr>\n",
       "  </tbody>\n",
       "</table>\n",
       "<p>585 rows × 8 columns</p>\n",
       "</div>"
      ],
      "text/plain": [
       "                    name appointment_made_date app_start_date   app_end_date  \\\n",
       "0      Joshua T. Blanton   2014-12-18T00:00:00    1/6/15 9:30   1/6/15 23:59   \n",
       "1        Jack T. Gutting   2014-12-18T00:00:00    1/6/15 9:30   1/6/15 23:59   \n",
       "2      Bradley T. Guiles   2014-12-18T00:00:00    1/6/15 9:30   1/6/15 23:59   \n",
       "3         Loryn F. Grieb   2014-12-18T00:00:00    1/6/15 9:30   1/6/15 23:59   \n",
       "4       Travis D. Gordon   2014-12-18T00:00:00    1/6/15 9:30   1/6/15 23:59   \n",
       "..                   ...                   ...            ...            ...   \n",
       "580       Ryan J. Morgan   2015-01-09T00:00:00  1/16/15 10:00  1/16/15 23:59   \n",
       "581  Alexander V. Nevsky   2015-01-09T00:00:00  1/16/15 10:00  1/16/15 23:59   \n",
       "582   Montana J. Johnson   2015-01-09T00:00:00  1/16/15 10:00  1/16/15 23:59   \n",
       "583  Joseph A. Pritchard   2015-01-09T00:00:00  1/16/15 10:00  1/16/15 23:59   \n",
       "584      Martin O. Reina   2015-01-09T00:00:00  1/16/15 10:00  1/16/15 23:59   \n",
       "\n",
       "    visitee_namelast visitee_namefirst meeting_room  \\\n",
       "0                NaN             potus    west wing   \n",
       "1                NaN             potus    west wing   \n",
       "2                NaN             potus    west wing   \n",
       "3                NaN             potus    west wing   \n",
       "4                NaN             potus    west wing   \n",
       "..               ...               ...          ...   \n",
       "580              NaN             potus    west wing   \n",
       "581              NaN             potus    west wing   \n",
       "582              NaN             potus    west wing   \n",
       "583              NaN             potus    west wing   \n",
       "584              NaN             potus    west wing   \n",
       "\n",
       "                           description  \n",
       "0    JointService Military Honor Guard  \n",
       "1    JointService Military Honor Guard  \n",
       "2    JointService Military Honor Guard  \n",
       "3    JointService Military Honor Guard  \n",
       "4    JointService Military Honor Guard  \n",
       "..                                 ...  \n",
       "580               military honor guard  \n",
       "581               military honor guard  \n",
       "582               military honor guard  \n",
       "583               military honor guard  \n",
       "584               military honor guard  \n",
       "\n",
       "[585 rows x 8 columns]"
      ]
     },
     "execution_count": 64,
     "metadata": {},
     "output_type": "execute_result"
    }
   ],
   "source": [
    "df"
   ]
  },
  {
   "cell_type": "code",
   "execution_count": 65,
   "id": "59028a31-5f3a-4739-b527-e55b256386f5",
   "metadata": {
    "tags": []
   },
   "outputs": [
    {
     "data": {
      "text/plain": [
       "'Joshua T. Blanton'"
      ]
     },
     "execution_count": 65,
     "metadata": {},
     "output_type": "execute_result"
    }
   ],
   "source": [
    "df.loc[0,'name']"
   ]
  },
  {
   "cell_type": "code",
   "execution_count": null,
   "id": "dd620d6a-3042-473e-967d-ba3895939543",
   "metadata": {},
   "outputs": [],
   "source": []
  },
  {
   "cell_type": "code",
   "execution_count": null,
   "id": "1499cdfa-b7a4-4e83-9bba-fabd6ffee7ba",
   "metadata": {},
   "outputs": [],
   "source": []
  },
  {
   "cell_type": "code",
   "execution_count": null,
   "id": "59a44a46-b426-4c65-bb07-ed7ff88353d3",
   "metadata": {},
   "outputs": [],
   "source": []
  },
  {
   "cell_type": "code",
   "execution_count": null,
   "id": "bd87a4a4-9c89-41e7-8723-eb44caf33e1a",
   "metadata": {},
   "outputs": [],
   "source": []
  }
 ],
 "metadata": {
  "kernelspec": {
   "display_name": "Python 3 (ipykernel)",
   "language": "python",
   "name": "python3"
  },
  "language_info": {
   "codemirror_mode": {
    "name": "ipython",
    "version": 3
   },
   "file_extension": ".py",
   "mimetype": "text/x-python",
   "name": "python",
   "nbconvert_exporter": "python",
   "pygments_lexer": "ipython3",
   "version": "3.11.4"
  }
 },
 "nbformat": 4,
 "nbformat_minor": 5
}
