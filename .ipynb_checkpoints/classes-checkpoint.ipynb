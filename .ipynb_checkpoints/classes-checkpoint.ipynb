{
 "cells": [
  {
   "cell_type": "markdown",
   "id": "121c0cc1-edb4-4175-80b9-7e4bd5344f1d",
   "metadata": {
    "tags": []
   },
   "source": [
    "# Classes in Pyhton"
   ]
  },
  {
   "cell_type": "code",
   "execution_count": 2,
   "id": "63ae78c9-84bd-4dde-88d2-c784f60b3b41",
   "metadata": {},
   "outputs": [
    {
     "name": "stdout",
     "output_type": "stream",
     "text": [
      "5\n"
     ]
    }
   ],
   "source": [
    "#creates a class with property named x :\n",
    "class Myclass:\n",
    "    x=5\n",
    "\n",
    "#creates an object p1 and access x to print its value\n",
    "p1 = Myclass()\n",
    "print(p1.x)"
   ]
  },
  {
   "cell_type": "markdown",
   "id": "de5b5335-c4b4-44c1-ac60-c46b8b89fe56",
   "metadata": {},
   "source": [
    "## The __init__() Function"
   ]
  },
  {
   "cell_type": "markdown",
   "id": "fb3ec059-2498-4ed3-8c01-fc5774fa343b",
   "metadata": {},
   "source": [
    "#### All classes have a function called <code>__ init __()</code>, which is always executed when the class is being initiated.\n",
    "\n",
    "\n",
    "#### Note: <i> The <code>__ init __()</code> function is called automatically every time the class is being used to create a new object.</i>"
   ]
  },
  {
   "cell_type": "code",
   "execution_count": 3,
   "id": "2b84a0c6-8958-40b4-a486-753d8d6f33d1",
   "metadata": {
    "tags": []
   },
   "outputs": [
    {
     "name": "stdout",
     "output_type": "stream",
     "text": [
      "Ramu 25\n",
      "Priya 22\n"
     ]
    }
   ],
   "source": [
    "class person:\n",
    "    def __init__(self,name,age):\n",
    "        self.name = name\n",
    "        self.age = age\n",
    "\n",
    "boy = person(\"Ramu\",25)\n",
    "girl = person(\"Priya\",22)\n",
    "\n",
    "print(boy.name,boy.age)\n",
    "print(girl.name,girl.age)"
   ]
  },
  {
   "cell_type": "code",
   "execution_count": null,
   "id": "e033e381-8b20-4ca0-b02e-1058f3bc92c2",
   "metadata": {},
   "outputs": [],
   "source": []
  },
  {
   "cell_type": "code",
   "execution_count": null,
   "id": "6336b5ab-ef96-4b54-8052-4d7bd85f743e",
   "metadata": {},
   "outputs": [],
   "source": []
  },
  {
   "cell_type": "code",
   "execution_count": null,
   "id": "0f989e02-e900-4b5a-9450-238a9cbd5ba9",
   "metadata": {},
   "outputs": [],
   "source": []
  },
  {
   "cell_type": "markdown",
   "id": "91a76c95-5df8-4b58-b427-4092791dde20",
   "metadata": {},
   "source": [
    "## The __str__() Function"
   ]
  },
  {
   "cell_type": "markdown",
   "id": "c350ef0b-c3d8-4d2e-844f-80549a152c4f",
   "metadata": {},
   "source": [
    "#### wihtout str() :"
   ]
  },
  {
   "cell_type": "code",
   "execution_count": 1,
   "id": "83c6212c-83b9-41b3-8e0d-9e305674d043",
   "metadata": {
    "tags": []
   },
   "outputs": [
    {
     "name": "stdout",
     "output_type": "stream",
     "text": [
      "<__main__.Person object at 0x000001DB80BC2320>\n"
     ]
    }
   ],
   "source": [
    "class Person:\n",
    "  def __init__(self, name, age):\n",
    "    self.name = name\n",
    "    self.age = age\n",
    "\n",
    "p1 = Person(\"John\", 36)\n",
    "\n",
    "print(p1)"
   ]
  },
  {
   "cell_type": "markdown",
   "id": "83be3bd0-52d0-43a3-8b20-491eb9d86988",
   "metadata": {
    "tags": []
   },
   "source": [
    "### with str() :"
   ]
  },
  {
   "cell_type": "code",
   "execution_count": 3,
   "id": "ca87d822-b301-4f9a-ad55-4133788c8f0a",
   "metadata": {
    "tags": []
   },
   "outputs": [
    {
     "name": "stdout",
     "output_type": "stream",
     "text": [
      "John(36)\n"
     ]
    }
   ],
   "source": [
    "class Person:\n",
    "  def __init__(self, name, age):\n",
    "    self.name = name\n",
    "    self.age = age\n",
    "\n",
    "  def __str__(self):\n",
    "    return f\"{self.name}({self.age})\"\n",
    "\n",
    "p1 = Person(\"John\", 36)\n",
    "\n",
    "print(p1)"
   ]
  },
  {
   "cell_type": "code",
   "execution_count": null,
   "id": "83078e75-a763-4b4f-929f-1504f5ac9d02",
   "metadata": {},
   "outputs": [],
   "source": []
  }
 ],
 "metadata": {
  "kernelspec": {
   "display_name": "Python 3 (ipykernel)",
   "language": "python",
   "name": "python3"
  },
  "language_info": {
   "codemirror_mode": {
    "name": "ipython",
    "version": 3
   },
   "file_extension": ".py",
   "mimetype": "text/x-python",
   "name": "python",
   "nbconvert_exporter": "python",
   "pygments_lexer": "ipython3",
   "version": "3.10.9"
  }
 },
 "nbformat": 4,
 "nbformat_minor": 5
}
