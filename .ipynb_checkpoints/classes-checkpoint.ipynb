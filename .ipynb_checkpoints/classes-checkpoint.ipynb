{
 "cells": [
  {
   "cell_type": "markdown",
   "id": "121c0cc1-edb4-4175-80b9-7e4bd5344f1d",
   "metadata": {
    "tags": []
   },
   "source": [
    "## Classes in Pyhton"
   ]
  },
  {
   "cell_type": "code",
   "execution_count": null,
   "id": "63ae78c9-84bd-4dde-88d2-c784f60b3b41",
   "metadata": {},
   "outputs": [],
   "source": []
  }
 ],
 "metadata": {
  "kernelspec": {
   "display_name": "Python 3 (ipykernel)",
   "language": "python",
   "name": "python3"
  },
  "language_info": {
   "codemirror_mode": {
    "name": "ipython",
    "version": 3
   },
   "file_extension": ".py",
   "mimetype": "text/x-python",
   "name": "python",
   "nbconvert_exporter": "python",
   "pygments_lexer": "ipython3",
   "version": "3.10.9"
  }
 },
 "nbformat": 4,
 "nbformat_minor": 5
}
