{
 "cells": [
  {
   "cell_type": "markdown",
   "id": "121c0cc1-edb4-4175-80b9-7e4bd5344f1d",
   "metadata": {
    "tags": []
   },
   "source": [
    "# Classes in Pyhton"
   ]
  },
  {
   "cell_type": "code",
   "execution_count": 2,
   "id": "63ae78c9-84bd-4dde-88d2-c784f60b3b41",
   "metadata": {},
   "outputs": [
    {
     "name": "stdout",
     "output_type": "stream",
     "text": [
      "5\n"
     ]
    }
   ],
   "source": [
    "#creates a class with property named x :\n",
    "class Myclass:\n",
    "    x=5\n",
    "\n",
    "#creates an object p1 and access x to print its value\n",
    "p1 = Myclass()\n",
    "print(p1.x)"
   ]
  },
  {
   "cell_type": "markdown",
   "id": "de5b5335-c4b4-44c1-ac60-c46b8b89fe56",
   "metadata": {},
   "source": [
    "## The __init__() Function"
   ]
  },
  {
   "cell_type": "markdown",
   "id": "fb3ec059-2498-4ed3-8c01-fc5774fa343b",
   "metadata": {},
   "source": [
    "#### All classes have a function called <code>__ init __()</code>, which is always executed when the class is being initiated.\n",
    "\n",
    "\n",
    "#### Note: <i> The <code>__ init __()</code> function is called automatically every time the class is being used to create a new object.</i>"
   ]
  },
  {
   "cell_type": "code",
   "execution_count": 3,
   "id": "2b84a0c6-8958-40b4-a486-753d8d6f33d1",
   "metadata": {
    "tags": []
   },
   "outputs": [
    {
     "name": "stdout",
     "output_type": "stream",
     "text": [
      "Ramu 25\n",
      "Priya 22\n"
     ]
    }
   ],
   "source": [
    "class person:\n",
    "    def __init__(self,name,age):\n",
    "        self.name = name\n",
    "        self.age = age\n",
    "\n",
    "boy = person(\"Ramu\",25)\n",
    "girl = person(\"Priya\",22)\n",
    "\n",
    "print(boy.name,boy.age)\n",
    "print(girl.name,girl.age)"
   ]
  },
  {
   "cell_type": "code",
   "execution_count": null,
   "id": "e033e381-8b20-4ca0-b02e-1058f3bc92c2",
   "metadata": {},
   "outputs": [],
   "source": []
  },
  {
   "cell_type": "code",
   "execution_count": null,
   "id": "6336b5ab-ef96-4b54-8052-4d7bd85f743e",
   "metadata": {},
   "outputs": [],
   "source": []
  },
  {
   "cell_type": "code",
   "execution_count": null,
   "id": "0f989e02-e900-4b5a-9450-238a9cbd5ba9",
   "metadata": {},
   "outputs": [],
   "source": []
  },
  {
   "cell_type": "markdown",
   "id": "91a76c95-5df8-4b58-b427-4092791dde20",
   "metadata": {},
   "source": [
    "## The __str__() Function"
   ]
  },
  {
   "cell_type": "markdown",
   "id": "c350ef0b-c3d8-4d2e-844f-80549a152c4f",
   "metadata": {},
   "source": [
    "#### wihtout str() :"
   ]
  },
  {
   "cell_type": "code",
   "execution_count": 1,
   "id": "83c6212c-83b9-41b3-8e0d-9e305674d043",
   "metadata": {
    "tags": []
   },
   "outputs": [
    {
     "name": "stdout",
     "output_type": "stream",
     "text": [
      "<__main__.Person object at 0x000001DB80BC2320>\n"
     ]
    }
   ],
   "source": [
    "class Person:\n",
    "  def __init__(self, name, age):\n",
    "    self.name = name\n",
    "    self.age = age\n",
    "\n",
    "p1 = Person(\"John\", 36)\n",
    "\n",
    "print(p1)"
   ]
  },
  {
   "cell_type": "markdown",
   "id": "83be3bd0-52d0-43a3-8b20-491eb9d86988",
   "metadata": {
    "tags": []
   },
   "source": [
    "### with str() :"
   ]
  },
  {
   "cell_type": "code",
   "execution_count": 4,
   "id": "ca87d822-b301-4f9a-ad55-4133788c8f0a",
   "metadata": {
    "tags": []
   },
   "outputs": [
    {
     "name": "stdout",
     "output_type": "stream",
     "text": [
      "John(36)\n"
     ]
    }
   ],
   "source": [
    "class Person:\n",
    "  def __init__(self, name, age):\n",
    "    self.name = name\n",
    "    self.age = age\n",
    "\n",
    "  def __str__(self):\n",
    "    return f\"{self.name}({self.age})\"\n",
    "\n",
    "p1 = Person(\"John\", 36)\n",
    "\n",
    "print(p1)"
   ]
  },
  {
   "cell_type": "code",
   "execution_count": null,
   "id": "83078e75-a763-4b4f-929f-1504f5ac9d02",
   "metadata": {},
   "outputs": [],
   "source": []
  },
  {
   "cell_type": "code",
   "execution_count": null,
   "id": "82ce467d-fcbe-418b-a93f-5f54edf7f1ca",
   "metadata": {},
   "outputs": [],
   "source": []
  },
  {
   "cell_type": "code",
   "execution_count": null,
   "id": "cdf78556-b9f5-4e4f-9b8e-8316c42e01b4",
   "metadata": {},
   "outputs": [],
   "source": []
  },
  {
   "cell_type": "code",
   "execution_count": 11,
   "id": "97eebbd0-8124-4147-92e8-fb191086d5b8",
   "metadata": {
    "tags": []
   },
   "outputs": [
    {
     "name": "stdout",
     "output_type": "stream",
     "text": [
      "Roshan 'M' 27744, 22\n",
      "Sulav 'M' 27736, 20\n",
      "Ram 'M' 27743, 22\n"
     ]
    }
   ],
   "source": [
    "class bsccsit:\n",
    "    def __init__(self,name,sex,symbolno,age):\n",
    "        self.name = name\n",
    "        self.sex = sex\n",
    "        self.symbolno = symbolno\n",
    "        self.age = age\n",
    "        \n",
    "    def __str__(self):\n",
    "        return f\"{self.name} '{self.sex}' {self.symbolno}, {self.age}\"\n",
    "    \n",
    "student1 = bsccsit(\"Roshan\",\"M\",27744,22)\n",
    "student2 = bsccsit(\"Sulav\",\"M\",27736,20)\n",
    "student3 = bsccsit(\"Ram\",\"M\",27743,22)\n",
    "\n",
    "print(student1)\n",
    "print(student2)\n",
    "print(student3)"
   ]
  },
  {
   "cell_type": "code",
   "execution_count": null,
   "id": "35048214-b469-4834-ba36-6b2822c7a6cc",
   "metadata": {},
   "outputs": [],
   "source": []
  },
  {
   "cell_type": "code",
   "execution_count": null,
   "id": "c03d523f-29f8-41f1-bd9a-62c9bb35effa",
   "metadata": {},
   "outputs": [],
   "source": []
  },
  {
   "cell_type": "code",
   "execution_count": 12,
   "id": "b8f89947-5334-4b98-9e99-f213b9442c62",
   "metadata": {
    "tags": []
   },
   "outputs": [
    {
     "name": "stdout",
     "output_type": "stream",
     "text": [
      "CAR 4wheeler\n",
      "Bike 2wheeler\n"
     ]
    }
   ],
   "source": [
    "class vehicle:\n",
    "    def __init__(self,name,model):\n",
    "        self.name = name\n",
    "        self.model = model\n",
    "        \n",
    "    def __str__(self):\n",
    "        return f\"{self.name} {self.model}\"\n",
    "    \n",
    "vech1 = vehicle(\"CAR\",\"4wheeler\")\n",
    "vech2 = vehicle(\"Bike\",\"2wheeler\")\n",
    "\n",
    "print(vech1)\n",
    "print(vech2)"
   ]
  },
  {
   "cell_type": "code",
   "execution_count": null,
   "id": "882e84b8-b8f4-4361-9443-c629a31b13e6",
   "metadata": {},
   "outputs": [],
   "source": []
  },
  {
   "cell_type": "code",
   "execution_count": null,
   "id": "406ea8f1-97f8-4bd9-bda4-90bf5710f5e9",
   "metadata": {},
   "outputs": [],
   "source": []
  },
  {
   "cell_type": "code",
   "execution_count": 13,
   "id": "3f086fcd-32fd-45ad-ba09-d72f378462fa",
   "metadata": {
    "tags": []
   },
   "outputs": [
    {
     "name": "stdout",
     "output_type": "stream",
     "text": [
      "My name is  Roshan . I'm  male  and i am  22  years old!\n"
     ]
    }
   ],
   "source": [
    "class classroom:\n",
    "    def __init__(x,name,sex,age):\n",
    "        x.name = name\n",
    "        x.sex = sex\n",
    "        x.age = age\n",
    "        \n",
    "    def mycall(x):\n",
    "        print(\"My name is \",x.name,\". I'm \",x.sex,\" and i am \",x.age,\" years old!\")\n",
    "\n",
    "stud1 = classroom(\"Roshan\",\"male\",22)\n",
    "\n",
    "stud1.mycall()\n"
   ]
  },
  {
   "cell_type": "code",
   "execution_count": null,
   "id": "c7f51405-3061-422f-ad8b-77dd69dc9bb7",
   "metadata": {},
   "outputs": [],
   "source": []
  },
  {
   "cell_type": "code",
   "execution_count": null,
   "id": "c798a15d-7ce0-415b-bf83-b581cf1d043f",
   "metadata": {},
   "outputs": [],
   "source": []
  },
  {
   "cell_type": "code",
   "execution_count": null,
   "id": "60cde20e-ae4c-4f97-bd68-f8ebfc12c2ea",
   "metadata": {},
   "outputs": [],
   "source": []
  },
  {
   "cell_type": "markdown",
   "id": "579a97f2-4845-4eb4-bf24-f4b3ff3dd2e7",
   "metadata": {},
   "source": [
    "# The self Parameter\n",
    "### The self parameter is a reference to the current instance of the class, and is used to access variables that belongs to the class.\n",
    "\n",
    "### It does not have to be named self , you can call it whatever you like, but it has to be the first parameter of any function in the class:"
   ]
  },
  {
   "cell_type": "code",
   "execution_count": 28,
   "id": "5ea16576-ae07-4c9f-9319-2b1c2ea269b9",
   "metadata": {
    "tags": []
   },
   "outputs": [
    {
     "name": "stdout",
     "output_type": "stream",
     "text": [
      "Animal is  Snake  and it lives in  Hole\n",
      "Animal is  bird  and it lives in  tree\n"
     ]
    }
   ],
   "source": [
    "class animal:\n",
    "    def __init__(sprit,name,habitat):\n",
    "        sprit.name = name\n",
    "        sprit.habitat = habitat\n",
    "    \n",
    "    def showdata(x):\n",
    "        print(\"Animal is \",x.name,\" and it lives in \",x.habitat)\n",
    "\n",
    "animal1 = animal(\"Snake\",\"Hole\")\n",
    "animal2 = animal(\"bird\",\"tree\")\n",
    "\n",
    "animal1.showdata()\n",
    "animal2.showdata()"
   ]
  },
  {
   "cell_type": "markdown",
   "id": "9420befc-9ae3-4a88-ba43-042fb76c9d4c",
   "metadata": {},
   "source": [
    "## modify object"
   ]
  },
  {
   "cell_type": "code",
   "execution_count": 29,
   "id": "b65b2825-b7fa-463b-b640-51fc073f00bb",
   "metadata": {
    "tags": []
   },
   "outputs": [
    {
     "name": "stdout",
     "output_type": "stream",
     "text": [
      "Animal is  mouse  and it lives in  Hole\n"
     ]
    }
   ],
   "source": [
    "animal1.name = \"mouse\"\n",
    "\n",
    "animal1.showdata()"
   ]
  },
  {
   "cell_type": "code",
   "execution_count": 30,
   "id": "9d99cca3-5e39-4a74-bc21-cb574d2943af",
   "metadata": {
    "tags": []
   },
   "outputs": [
    {
     "ename": "AttributeError",
     "evalue": "'animal' object has no attribute 'name'",
     "output_type": "error",
     "traceback": [
      "\u001b[1;31m---------------------------------------------------------------------------\u001b[0m",
      "\u001b[1;31mAttributeError\u001b[0m                            Traceback (most recent call last)",
      "Cell \u001b[1;32mIn[30], line 3\u001b[0m\n\u001b[0;32m      1\u001b[0m \u001b[38;5;28;01mdel\u001b[39;00m animal1\u001b[38;5;241m.\u001b[39mname\n\u001b[1;32m----> 3\u001b[0m \u001b[43manimal1\u001b[49m\u001b[38;5;241;43m.\u001b[39;49m\u001b[43mshowdata\u001b[49m\u001b[43m(\u001b[49m\u001b[43m)\u001b[49m\n",
      "Cell \u001b[1;32mIn[28], line 7\u001b[0m, in \u001b[0;36manimal.showdata\u001b[1;34m(x)\u001b[0m\n\u001b[0;32m      6\u001b[0m \u001b[38;5;28;01mdef\u001b[39;00m \u001b[38;5;21mshowdata\u001b[39m(x):\n\u001b[1;32m----> 7\u001b[0m     \u001b[38;5;28mprint\u001b[39m(\u001b[38;5;124m\"\u001b[39m\u001b[38;5;124mAnimal is \u001b[39m\u001b[38;5;124m\"\u001b[39m,\u001b[43mx\u001b[49m\u001b[38;5;241;43m.\u001b[39;49m\u001b[43mname\u001b[49m,\u001b[38;5;124m\"\u001b[39m\u001b[38;5;124m and it lives in \u001b[39m\u001b[38;5;124m\"\u001b[39m,x\u001b[38;5;241m.\u001b[39mhabitat)\n",
      "\u001b[1;31mAttributeError\u001b[0m: 'animal' object has no attribute 'name'"
     ]
    }
   ],
   "source": [
    "del animal1.name\n",
    "\n",
    "animal1.showdata()"
   ]
  },
  {
   "cell_type": "code",
   "execution_count": 32,
   "id": "f281a6fe-d0e8-40b5-8561-8e4fc9c794d5",
   "metadata": {
    "tags": []
   },
   "outputs": [
    {
     "name": "stdout",
     "output_type": "stream",
     "text": [
      "Animal is  fixed now  and it lives in  jupyterlab\n"
     ]
    }
   ],
   "source": [
    "# to fix error we have to again assign new name\n",
    "\n",
    "animal1.name = \"fixed now\"\n",
    "animal1.habitat = \"jupyterlab\"\n",
    "\n",
    "animal1.showdata()"
   ]
  },
  {
   "cell_type": "code",
   "execution_count": null,
   "id": "92d2384d-892b-48dd-a4af-e4f5426df249",
   "metadata": {},
   "outputs": [],
   "source": []
  },
  {
   "cell_type": "code",
   "execution_count": null,
   "id": "004a3dcf-9768-4b78-ba81-abc80ffd661c",
   "metadata": {},
   "outputs": [],
   "source": []
  },
  {
   "cell_type": "markdown",
   "id": "dd717fff-1141-410f-a086-7db806b28e14",
   "metadata": {},
   "source": [
    "# END OF CLASS PRACTISE"
   ]
  }
 ],
 "metadata": {
  "kernelspec": {
   "display_name": "Python 3 (ipykernel)",
   "language": "python",
   "name": "python3"
  },
  "language_info": {
   "codemirror_mode": {
    "name": "ipython",
    "version": 3
   },
   "file_extension": ".py",
   "mimetype": "text/x-python",
   "name": "python",
   "nbconvert_exporter": "python",
   "pygments_lexer": "ipython3",
   "version": "3.10.9"
  }
 },
 "nbformat": 4,
 "nbformat_minor": 5
}
