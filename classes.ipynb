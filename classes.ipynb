{
 "cells": [
  {
   "cell_type": "markdown",
   "id": "121c0cc1-edb4-4175-80b9-7e4bd5344f1d",
   "metadata": {
    "tags": []
   },
   "source": [
    "# Classes in Pyhton"
   ]
  },
  {
   "cell_type": "code",
   "execution_count": 2,
   "id": "63ae78c9-84bd-4dde-88d2-c784f60b3b41",
   "metadata": {},
   "outputs": [
    {
     "name": "stdout",
     "output_type": "stream",
     "text": [
      "5\n"
     ]
    }
   ],
   "source": [
    "#creates a class with property named x :\n",
    "class Myclass:\n",
    "    x=5\n",
    "\n",
    "#creates an object p1 and access x to print its value\n",
    "p1 = Myclass()\n",
    "print(p1.x)"
   ]
  },
  {
   "cell_type": "markdown",
   "id": "de5b5335-c4b4-44c1-ac60-c46b8b89fe56",
   "metadata": {},
   "source": [
    "## The __init__() Function"
   ]
  },
  {
   "cell_type": "markdown",
   "id": "fb3ec059-2498-4ed3-8c01-fc5774fa343b",
   "metadata": {},
   "source": [
    "#### All classes have a function called <code>__ init __()</code>, which is always executed when the class is being initiated.\n",
    "\n",
    "\n",
    "#### Note: <i> The <code>__ init __()</code> function is called automatically every time the class is being used to create a new object.</i>"
   ]
  },
  {
   "cell_type": "code",
   "execution_count": 3,
   "id": "2b84a0c6-8958-40b4-a486-753d8d6f33d1",
   "metadata": {
    "tags": []
   },
   "outputs": [
    {
     "name": "stdout",
     "output_type": "stream",
     "text": [
      "Ramu 25\n",
      "Priya 22\n"
     ]
    }
   ],
   "source": [
    "class person:\n",
    "    def __init__(self,name,age):\n",
    "        self.name = name\n",
    "        self.age = age\n",
    "\n",
    "boy = person(\"Ramu\",25)\n",
    "girl = person(\"Priya\",22)\n",
    "\n",
    "print(boy.name,boy.age)\n",
    "print(girl.name,girl.age)"
   ]
  },
  {
   "cell_type": "code",
   "execution_count": null,
   "id": "e033e381-8b20-4ca0-b02e-1058f3bc92c2",
   "metadata": {},
   "outputs": [],
   "source": []
  }
 ],
 "metadata": {
  "kernelspec": {
   "display_name": "Python 3 (ipykernel)",
   "language": "python",
   "name": "python3"
  },
  "language_info": {
   "codemirror_mode": {
    "name": "ipython",
    "version": 3
   },
   "file_extension": ".py",
   "mimetype": "text/x-python",
   "name": "python",
   "nbconvert_exporter": "python",
   "pygments_lexer": "ipython3",
   "version": "3.10.9"
  }
 },
 "nbformat": 4,
 "nbformat_minor": 5
}
