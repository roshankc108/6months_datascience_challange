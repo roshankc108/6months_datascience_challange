{
 "cells": [
  {
   "cell_type": "markdown",
   "id": "0c99231f-85b4-4c3c-a4be-968bb854012b",
   "metadata": {},
   "source": [
    "# conditions and loops in pyhton"
   ]
  },
  {
   "cell_type": "code",
   "execution_count": null,
   "id": "7ca5627c-ff20-4616-be56-691aad06ae62",
   "metadata": {},
   "outputs": [],
   "source": []
  }
 ],
 "metadata": {
  "kernelspec": {
   "display_name": "Python 3 (ipykernel)",
   "language": "python",
   "name": "python3"
  },
  "language_info": {
   "codemirror_mode": {
    "name": "ipython",
    "version": 3
   },
   "file_extension": ".py",
   "mimetype": "text/x-python",
   "name": "python",
   "nbconvert_exporter": "python",
   "pygments_lexer": "ipython3",
   "version": "3.10.9"
  }
 },
 "nbformat": 4,
 "nbformat_minor": 5
}
