{
 "cells": [
  {
   "cell_type": "markdown",
   "id": "0c99231f-85b4-4c3c-a4be-968bb854012b",
   "metadata": {},
   "source": [
    "# conditions and loops in pyhton"
   ]
  },
  {
   "cell_type": "markdown",
   "id": "24e648a8-bc31-4008-9e28-0891bc850c84",
   "metadata": {},
   "source": [
    "## if ... elif ... else"
   ]
  },
  {
   "cell_type": "code",
   "execution_count": 17,
   "id": "d5a30d56-cc3a-451b-bbab-f36ad70cb6b1",
   "metadata": {
    "tags": []
   },
   "outputs": [
    {
     "name": "stdin",
     "output_type": "stream",
     "text": [
      " 15\n"
     ]
    },
    {
     "name": "stdout",
     "output_type": "stream",
     "text": [
      "piddi bachha\n"
     ]
    }
   ],
   "source": [
    "x = int(input())\n",
    "\n",
    "if x == 16 :\n",
    "    print(\"Sweet 16\")\n",
    "elif x > 16 :\n",
    "    print(\"aba jawani suru\")\n",
    "else:\n",
    "    print(\"piddi bachha\")\n",
    "    "
   ]
  },
  {
   "cell_type": "markdown",
   "id": "17f91160-b73e-4328-b947-926e780b208b",
   "metadata": {},
   "source": [
    "## we ca skip <i>else</i> part if we dont need it."
   ]
  },
  {
   "cell_type": "code",
   "execution_count": 18,
   "id": "f8810193-2f72-481e-afbc-69e4ec0d3540",
   "metadata": {
    "tags": []
   },
   "outputs": [
    {
     "name": "stdout",
     "output_type": "stream",
     "text": [
      "piddu baccha\n"
     ]
    }
   ],
   "source": [
    "if x>16:\n",
    "    print(\"you're not sweet 16\")\n",
    "elif x!=16:\n",
    "    print(\"piddu baccha\")"
   ]
  },
  {
   "cell_type": "markdown",
   "id": "4820d2c3-77b5-4dbf-830f-783d6fa2c510",
   "metadata": {},
   "source": [
    "# Short Hand if /  if ... else"
   ]
  },
  {
   "cell_type": "code",
   "execution_count": 19,
   "id": "1ae016e7-6cb1-4be8-bb89-ac8fdba38746",
   "metadata": {
    "tags": []
   },
   "outputs": [],
   "source": [
    "if x>16 :print(\"you're old\")"
   ]
  },
  {
   "cell_type": "code",
   "execution_count": 20,
   "id": "10059a3f-e17c-4092-be88-52b5cfe44fd8",
   "metadata": {
    "tags": []
   },
   "outputs": [
    {
     "name": "stdout",
     "output_type": "stream",
     "text": [
      "piddu  bachha\n"
     ]
    }
   ],
   "source": [
    "print(\"you're old\") if x>16 else print('piddu  bachha')"
   ]
  },
  {
   "cell_type": "code",
   "execution_count": null,
   "id": "4de4ac9e-015f-472d-b23a-9b96e1606fbc",
   "metadata": {},
   "outputs": [],
   "source": []
  },
  {
   "cell_type": "code",
   "execution_count": null,
   "id": "3a864c69-fe99-487f-b369-fbbd412fcfa0",
   "metadata": {},
   "outputs": [],
   "source": []
  },
  {
   "cell_type": "markdown",
   "id": "993dae01-cce2-47b4-a195-05b70215c09f",
   "metadata": {},
   "source": [
    " # AND OR NOT PASS"
   ]
  },
  {
   "cell_type": "markdown",
   "id": "059a392c-5958-4eef-87c3-f0c4e37175bd",
   "metadata": {},
   "source": [
    "### AND"
   ]
  },
  {
   "cell_type": "code",
   "execution_count": 21,
   "id": "050c5e2e-2b48-4d91-8a2a-d92b7265bbde",
   "metadata": {
    "tags": []
   },
   "outputs": [
    {
     "name": "stdout",
     "output_type": "stream",
     "text": [
      "2 2\n"
     ]
    }
   ],
   "source": [
    "x  = 2\n",
    "y  = 2\n",
    "if x == 2 and y == 2:\n",
    "    print(x,y)"
   ]
  },
  {
   "cell_type": "markdown",
   "id": "56d41eb7-3629-4205-b36e-2cde938e50ed",
   "metadata": {},
   "source": [
    "### OR"
   ]
  },
  {
   "cell_type": "code",
   "execution_count": 22,
   "id": "606e3efd-74ac-41d9-b5b8-ef818afb3a5c",
   "metadata": {
    "tags": []
   },
   "outputs": [
    {
     "name": "stdout",
     "output_type": "stream",
     "text": [
      "2 2\n"
     ]
    }
   ],
   "source": [
    "if x == 3 or y == 2:\n",
    "    print(x,y)"
   ]
  },
  {
   "cell_type": "markdown",
   "id": "829ea580-749e-4664-8f6a-b6aa68763c4d",
   "metadata": {},
   "source": [
    "### NOT"
   ]
  },
  {
   "cell_type": "code",
   "execution_count": 27,
   "id": "d608c4c7-6d6e-42cb-a331-d933f5c44034",
   "metadata": {
    "tags": []
   },
   "outputs": [
    {
     "name": "stdout",
     "output_type": "stream",
     "text": [
      "2\n"
     ]
    }
   ],
   "source": [
    "if not x == 3:\n",
    "    print(x)"
   ]
  },
  {
   "cell_type": "markdown",
   "id": "49ddec8c-ffcc-40ea-bab6-9f7ab7a9a14a",
   "metadata": {},
   "source": [
    "## nested if"
   ]
  },
  {
   "cell_type": "code",
   "execution_count": 39,
   "id": "16b0b9d7-c175-4b5f-aed7-18c53e720fd6",
   "metadata": {
    "tags": []
   },
   "outputs": [
    {
     "name": "stdin",
     "output_type": "stream",
     "text": [
      "Enter your grade 81\n"
     ]
    },
    {
     "name": "stdout",
     "output_type": "stream",
     "text": [
      "Distintion\n"
     ]
    }
   ],
   "source": [
    "x = int(input(\"Enter your grade\"))\n",
    "\n",
    "if (x<100 and x>0):\n",
    "    \n",
    "    if(x>40 and x>=80):\n",
    "        print('Distintion')\n",
    "    elif(x>=40 and x<80):\n",
    "        print('good grade')\n",
    "    else:\n",
    "        print(\"Fail\")\n",
    "        \n",
    "else:\n",
    "    print(\"Invalid marks\")\n"
   ]
  },
  {
   "cell_type": "markdown",
   "id": "4c7b4639-551a-464b-84d4-c05b9bdd8c62",
   "metadata": {},
   "source": [
    "## pass statement"
   ]
  },
  {
   "cell_type": "code",
   "execution_count": 41,
   "id": "0578c09d-0b1d-494e-a6b6-45dd4a343f3e",
   "metadata": {
    "tags": []
   },
   "outputs": [],
   "source": [
    "z = 10\n",
    "\n",
    "if z == 10:\n",
    "    pass"
   ]
  },
  {
   "cell_type": "code",
   "execution_count": null,
   "id": "7fdb5dd7-5348-477d-a59a-ee215d53c9ea",
   "metadata": {},
   "outputs": [],
   "source": []
  },
  {
   "cell_type": "code",
   "execution_count": null,
   "id": "ac1cc262-9608-4dfe-b26b-3a2d2a7ae288",
   "metadata": {},
   "outputs": [],
   "source": []
  },
  {
   "cell_type": "markdown",
   "id": "9509c5d8-a7cc-46b0-a908-6564dadc0f4a",
   "metadata": {},
   "source": [
    "# LOOPS"
   ]
  },
  {
   "cell_type": "code",
   "execution_count": 42,
   "id": "e7c762f3-126f-47e9-87f0-8f1fc3229539",
   "metadata": {
    "tags": []
   },
   "outputs": [
    {
     "name": "stdout",
     "output_type": "stream",
     "text": [
      "1 2 3 4 5 6 7 8 9 10 11 12 13 14 15 16 17 18 19 20 21 22 23 24 25 26 27 28 29 30 31 32 33 34 35 36 37 38 39 40 41 42 43 44 45 46 47 48 49 50 51 52 53 54 55 56 57 58 59 60 61 62 63 64 65 66 67 68 69 70 71 72 73 74 75 76 77 78 79 80 81 82 83 84 85 86 87 88 89 90 91 92 93 94 95 96 97 98 99 100 "
     ]
    }
   ],
   "source": [
    "for x in range(1,101):\n",
    "    print(x,end=\" \")"
   ]
  },
  {
   "cell_type": "markdown",
   "id": "93995e4c-2ce9-437d-bc47-f23458504b14",
   "metadata": {},
   "source": [
    "## continue and break"
   ]
  },
  {
   "cell_type": "markdown",
   "id": "bd53b09d-55d7-4377-9e51-03ba38b5176d",
   "metadata": {},
   "source": [
    "here i this example we will skip 6 and end in 9"
   ]
  },
  {
   "cell_type": "code",
   "execution_count": 46,
   "id": "d8287d86-5725-48b4-ac14-448e0fcf0b45",
   "metadata": {
    "tags": []
   },
   "outputs": [
    {
     "name": "stdout",
     "output_type": "stream",
     "text": [
      "0 1 2 3 4 5 7 8 "
     ]
    }
   ],
   "source": [
    "for x in range(15):\n",
    "    if x == 6:\n",
    "        continue\n",
    "    if x == 9:\n",
    "        break\n",
    "    print(x,end=\" \")"
   ]
  },
  {
   "cell_type": "code",
   "execution_count": 51,
   "id": "a15981fe-bd8c-4764-b6e7-65d8a0a91c14",
   "metadata": {
    "tags": []
   },
   "outputs": [
    {
     "name": "stdout",
     "output_type": "stream",
     "text": [
      "3 6 9 12 15 18 21 24 27 30 "
     ]
    }
   ],
   "source": [
    "for x in range(3,31,3):\n",
    "    print(x,end=\" \")"
   ]
  },
  {
   "cell_type": "markdown",
   "id": "7abf089e-0d24-4e61-99e6-4c300297639d",
   "metadata": {},
   "source": [
    "## The else Statement in while"
   ]
  },
  {
   "cell_type": "code",
   "execution_count": 58,
   "id": "979c3775-34a2-40d2-b928-edbdb71b18f1",
   "metadata": {
    "tags": []
   },
   "outputs": [
    {
     "name": "stdout",
     "output_type": "stream",
     "text": [
      "1 2 3 4 5 6 7 8 \n",
      "x is no longer less than 9\n"
     ]
    }
   ],
   "source": [
    "x = 1\n",
    "while(x<9):\n",
    "    print(x,end=\" \")\n",
    "    x+=1\n",
    "else:\n",
    "    print(\"\\nx is no longer less than 9\")"
   ]
  },
  {
   "cell_type": "markdown",
   "id": "01a3d591-628a-4213-b052-d08db01c9073",
   "metadata": {},
   "source": [
    "## looping through "
   ]
  },
  {
   "cell_type": "markdown",
   "id": "d51fa55a-639b-4d83-81a2-aec236a7ee11",
   "metadata": {},
   "source": [
    "### 1.a string"
   ]
  },
  {
   "cell_type": "code",
   "execution_count": 60,
   "id": "a6e5ffc4-581d-4554-bbb2-2973b6edb949",
   "metadata": {
    "tags": []
   },
   "outputs": [
    {
     "name": "stdout",
     "output_type": "stream",
     "text": [
      "h e l l o w o r l d "
     ]
    }
   ],
   "source": [
    "txt = 'helloworld'\n",
    "for x in txt:\n",
    "    print(x,end=\" \")"
   ]
  },
  {
   "cell_type": "markdown",
   "id": "d821c7de-9190-42dc-bd2d-3165718484c3",
   "metadata": {},
   "source": [
    "### 2.a list"
   ]
  },
  {
   "cell_type": "code",
   "execution_count": 61,
   "id": "bbae7c39-0ef1-4304-858f-b277a0ad02c9",
   "metadata": {
    "tags": []
   },
   "outputs": [
    {
     "name": "stdout",
     "output_type": "stream",
     "text": [
      "hello world ke xa khabar True 1 2 3 "
     ]
    }
   ],
   "source": [
    "txt =[\"hello\",\"world\",\"ke\",\"xa\",\"khabar\",True,1,2,3]\n",
    "for x in txt:\n",
    "    print(x,end=\" \")"
   ]
  },
  {
   "cell_type": "markdown",
   "id": "35a3e5c5-156d-4230-9c2a-105214c69b76",
   "metadata": {},
   "source": [
    "# help monkey Catch a banana form given list and run home fast."
   ]
  },
  {
   "cell_type": "code",
   "execution_count": 62,
   "id": "b288db03-b441-444c-9d3b-f1c3c76cee09",
   "metadata": {
    "tags": []
   },
   "outputs": [],
   "source": [
    "mylist = ['apple','mango','banana','candy','egg']"
   ]
  },
  {
   "cell_type": "code",
   "execution_count": 63,
   "id": "28a763ff-ca11-4d4d-adb5-509ebf460229",
   "metadata": {
    "tags": []
   },
   "outputs": [
    {
     "name": "stdout",
     "output_type": "stream",
     "text": [
      "monkey found the banana,lets go home!\n"
     ]
    }
   ],
   "source": [
    "for x in mylist:\n",
    "    if x == \"banana\":\n",
    "        print(\"monkey found the banana,lets go home!\")\n",
    "        break"
   ]
  },
  {
   "cell_type": "markdown",
   "id": "d5b50661-74ab-445f-904b-310deaf246ba",
   "metadata": {},
   "source": [
    "## find the position of 1st banana"
   ]
  },
  {
   "cell_type": "markdown",
   "id": "dc3c51c6-49f7-431d-9d74-4811f9aeb3e2",
   "metadata": {},
   "source": [
    "# enumerate is the hint"
   ]
  },
  {
   "cell_type": "code",
   "execution_count": 66,
   "id": "ee9534a9-4165-4913-bfd8-c80455ec1fa1",
   "metadata": {
    "tags": []
   },
   "outputs": [
    {
     "name": "stdout",
     "output_type": "stream",
     "text": [
      "banana found at 3 position\n"
     ]
    }
   ],
   "source": [
    "for index,value in enumerate(mylist):\n",
    "    if value == \"banana\":\n",
    "        print(\"banana found at\",index+1,\"position\")\n",
    "        break"
   ]
  },
  {
   "cell_type": "code",
   "execution_count": null,
   "id": "c5b2b0fa-195a-40d2-86b8-26c01a443dcf",
   "metadata": {},
   "outputs": [],
   "source": []
  },
  {
   "cell_type": "code",
   "execution_count": null,
   "id": "d7bab533-4b36-4dc6-8a52-53f886080ac1",
   "metadata": {},
   "outputs": [],
   "source": []
  }
 ],
 "metadata": {
  "kernelspec": {
   "display_name": "Python 3 (ipykernel)",
   "language": "python",
   "name": "python3"
  },
  "language_info": {
   "codemirror_mode": {
    "name": "ipython",
    "version": 3
   },
   "file_extension": ".py",
   "mimetype": "text/x-python",
   "name": "python",
   "nbconvert_exporter": "python",
   "pygments_lexer": "ipython3",
   "version": "3.10.9"
  }
 },
 "nbformat": 4,
 "nbformat_minor": 5
}
