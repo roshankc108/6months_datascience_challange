{
 "cells": [
  {
   "cell_type": "markdown",
   "id": "eba32403-00f3-4b37-8cc8-91f6c8af7cac",
   "metadata": {},
   "source": [
    "# Pyhton Basics"
   ]
  },
  {
   "cell_type": "markdown",
   "id": "2eec50cd-4e78-45b0-957e-6150431fa438",
   "metadata": {},
   "source": [
    "## Data Types\n",
    "### Some of the common datatypes that we use in python are Strings, Integers, Floats, Lists, Dictionaries and Tuples."
   ]
  },
  {
   "cell_type": "code",
   "execution_count": 1,
   "id": "edd236fd-71b5-44cd-9fa6-62d5aa2de06c",
   "metadata": {
    "tags": []
   },
   "outputs": [
    {
     "name": "stdout",
     "output_type": "stream",
     "text": [
      "<class 'int'> 10\n"
     ]
    }
   ],
   "source": [
    "x = 10\n",
    "print(type(x),x)"
   ]
  },
  {
   "cell_type": "code",
   "execution_count": 2,
   "id": "7a4af348-df7f-4a5e-9909-bf42bab57c36",
   "metadata": {
    "tags": []
   },
   "outputs": [
    {
     "name": "stdout",
     "output_type": "stream",
     "text": [
      "<class 'float'> 1.0\n"
     ]
    }
   ],
   "source": [
    "x = 1.0\n",
    "print(type(x),x)"
   ]
  },
  {
   "cell_type": "code",
   "execution_count": 3,
   "id": "160d9753-80c9-4f06-ab64-04fd18fad804",
   "metadata": {
    "tags": []
   },
   "outputs": [
    {
     "name": "stdout",
     "output_type": "stream",
     "text": [
      "hello world <class 'str'>\n"
     ]
    }
   ],
   "source": [
    "word = \"hello world\"\n",
    "print(word,type(word))"
   ]
  },
  {
   "cell_type": "code",
   "execution_count": 4,
   "id": "493c4743-4b07-4a1c-96ca-ff16b4074d47",
   "metadata": {
    "tags": []
   },
   "outputs": [
    {
     "name": "stdout",
     "output_type": "stream",
     "text": [
      "[1, 2, 3, True, 'hello', 'world'] <class 'list'>\n"
     ]
    }
   ],
   "source": [
    "mylist = [1,2,3,True,\"hello\",\"world\"]\n",
    "print(mylist,type(mylist))"
   ]
  },
  {
   "cell_type": "code",
   "execution_count": 7,
   "id": "050b47e4-8d5b-4bd2-be40-eac065ce6f78",
   "metadata": {
    "tags": []
   },
   "outputs": [
    {
     "name": "stdout",
     "output_type": "stream",
     "text": [
      "(1, 2, 3, 4, True, 'string', False) <class 'tuple'>\n"
     ]
    }
   ],
   "source": [
    "mytuple = (1,2,3,4,True,\"string\",False)\n",
    "print(mytuple,type(mytuple))"
   ]
  },
  {
   "cell_type": "code",
   "execution_count": 9,
   "id": "d324e9a7-e400-4f55-b516-ec1f28b0dba6",
   "metadata": {
    "tags": []
   },
   "outputs": [
    {
     "name": "stdout",
     "output_type": "stream",
     "text": [
      "{False, 1, 2, 3, 'helo'}\n",
      "<class 'set'>\n"
     ]
    }
   ],
   "source": [
    "myset = {1,2,2,3,3,True,False,\"helo\"}\n",
    "print(myset)\n",
    "print(type(myset))"
   ]
  },
  {
   "cell_type": "code",
   "execution_count": 11,
   "id": "d7132ec3-c0cf-4457-8eda-048271a6e768",
   "metadata": {
    "tags": []
   },
   "outputs": [
    {
     "name": "stdout",
     "output_type": "stream",
     "text": [
      "{'name': 'Roshan', 'age': 22, 'Address': 'Butwal'}\n"
     ]
    }
   ],
   "source": [
    "mydict = {\n",
    "    \"name\":\"Roshan\",\n",
    "    \"age\":22,\n",
    "    \"Address\":\"Butwal\"\n",
    "}\n",
    "print(mydict)"
   ]
  },
  {
   "cell_type": "code",
   "execution_count": 17,
   "id": "64bad4af-8449-4ce3-b15b-3f65f51b42da",
   "metadata": {
    "tags": []
   },
   "outputs": [
    {
     "name": "stdout",
     "output_type": "stream",
     "text": [
      "apple\n"
     ]
    }
   ],
   "source": [
    "fruit_name = \"\"\"apple\"\"\" # 'apple' / \"apple\" same but dont use 2 \"\" \"\" its wrong\n",
    "print(fruit_name)"
   ]
  },
  {
   "cell_type": "markdown",
   "id": "2c797d40-b3eb-4ad1-8e6f-67712d6a2847",
   "metadata": {},
   "source": [
    "# string Concatenation"
   ]
  },
  {
   "cell_type": "code",
   "execution_count": 18,
   "id": "46e00dc7-a836-4ab8-a12f-9786fda881fc",
   "metadata": {
    "tags": []
   },
   "outputs": [
    {
     "name": "stdout",
     "output_type": "stream",
     "text": [
      "helloworld\n"
     ]
    }
   ],
   "source": [
    "a = \"hello\"\n",
    "b = \"world\"\n",
    "\n",
    "print(a+b)"
   ]
  },
  {
   "cell_type": "code",
   "execution_count": 19,
   "id": "b9962f11-1dbe-4465-9970-054ebeb90912",
   "metadata": {
    "tags": []
   },
   "outputs": [
    {
     "name": "stdout",
     "output_type": "stream",
     "text": [
      "hello world\n"
     ]
    }
   ],
   "source": [
    "print(a,b)"
   ]
  },
  {
   "cell_type": "code",
   "execution_count": 20,
   "id": "5544a442-e62d-4089-9238-acfd9e0f5bc2",
   "metadata": {
    "tags": []
   },
   "outputs": [
    {
     "name": "stdout",
     "output_type": "stream",
     "text": [
      "hellohellohellohellohello\n"
     ]
    }
   ],
   "source": [
    "print(a*5)"
   ]
  },
  {
   "cell_type": "code",
   "execution_count": 25,
   "id": "e81637f4-fd5e-465c-a33e-bd330cc64112",
   "metadata": {
    "tags": []
   },
   "outputs": [
    {
     "name": "stdout",
     "output_type": "stream",
     "text": [
      "hellohellohellohellohello\n"
     ]
    }
   ],
   "source": [
    "print(a*5) # prints value in a 5 times"
   ]
  },
  {
   "cell_type": "markdown",
   "id": "262629a3-be75-4c88-8367-6eea97a32480",
   "metadata": {},
   "source": [
    "## concarenating using format() function"
   ]
  },
  {
   "cell_type": "code",
   "execution_count": 28,
   "id": "2811a90d-f825-4da2-aeaa-4b5eb748e1d9",
   "metadata": {
    "tags": []
   },
   "outputs": [
    {
     "name": "stdout",
     "output_type": "stream",
     "text": [
      "I am 22 yearls old\n"
     ]
    }
   ],
   "source": [
    "age = 22\n",
    "mssg = \"I am {} yearls old\" # {} is a container where value will be relpaced by value placed inside fomrat() fn\n",
    "\n",
    "print(mssg.format(age))"
   ]
  },
  {
   "cell_type": "markdown",
   "id": "a5f638d2-e766-4a0b-b16f-0442aad0f9dc",
   "metadata": {
    "tags": []
   },
   "source": [
    "## indexing starts form 0 and also form last using -1"
   ]
  },
  {
   "cell_type": "code",
   "execution_count": 31,
   "id": "8b39d0c3-860c-45fb-8a8c-200351ab7f13",
   "metadata": {
    "tags": []
   },
   "outputs": [
    {
     "name": "stdout",
     "output_type": "stream",
     "text": [
      "R\n"
     ]
    }
   ],
   "source": [
    "text = \"Roshan\"\n",
    "\n",
    "print(text[0])"
   ]
  },
  {
   "cell_type": "code",
   "execution_count": 33,
   "id": "6b650725-ee4f-4b79-9aeb-d6cb14c7a0a6",
   "metadata": {
    "tags": []
   },
   "outputs": [
    {
     "name": "stdout",
     "output_type": "stream",
     "text": [
      "n\n"
     ]
    }
   ],
   "source": [
    "print(text[5])"
   ]
  },
  {
   "cell_type": "code",
   "execution_count": 34,
   "id": "01654565-f124-46ab-90b2-7ade33253f67",
   "metadata": {
    "tags": []
   },
   "outputs": [
    {
     "name": "stdout",
     "output_type": "stream",
     "text": [
      "n\n"
     ]
    }
   ],
   "source": [
    "print(text[-1])"
   ]
  },
  {
   "cell_type": "markdown",
   "id": "c1d9f1c6-4fe1-48c8-a578-9f4f4d6a86ba",
   "metadata": {},
   "source": [
    "## slicing"
   ]
  },
  {
   "cell_type": "code",
   "execution_count": 36,
   "id": "0e12c448-6a57-48c2-81cf-bc25db8ec31f",
   "metadata": {
    "tags": []
   },
   "outputs": [],
   "source": [
    "mssg = \"roshankc.py\"\n",
    "# lets slice roshankc out"
   ]
  },
  {
   "cell_type": "code",
   "execution_count": 38,
   "id": "7f6e66fb-fc41-4f80-a8b8-eee5dc102fc4",
   "metadata": {
    "tags": []
   },
   "outputs": [
    {
     "name": "stdout",
     "output_type": "stream",
     "text": [
      "roshankc\n"
     ]
    }
   ],
   "source": [
    "print(mssg[0:8]) # start index : end index"
   ]
  },
  {
   "cell_type": "code",
   "execution_count": 39,
   "id": "65e81827-5980-403d-b8f4-cdb2922745d2",
   "metadata": {
    "tags": []
   },
   "outputs": [
    {
     "data": {
      "text/plain": [
       "['roshankc', 'py']"
      ]
     },
     "execution_count": 39,
     "metadata": {},
     "output_type": "execute_result"
    }
   ],
   "source": [
    "mssg.split('.')"
   ]
  },
  {
   "cell_type": "code",
   "execution_count": 42,
   "id": "05460aaa-0ccc-4edd-91a5-50441a453b12",
   "metadata": {
    "tags": []
   },
   "outputs": [
    {
     "data": {
      "text/plain": [
       "'py'"
      ]
     },
     "execution_count": 42,
     "metadata": {},
     "output_type": "execute_result"
    }
   ],
   "source": [
    "mssg.split('.')[-1]"
   ]
  },
  {
   "cell_type": "code",
   "execution_count": 43,
   "id": "c71fe8e5-8b81-4840-95d6-7d22f8613439",
   "metadata": {
    "tags": []
   },
   "outputs": [
    {
     "data": {
      "text/plain": [
       "'roshankc'"
      ]
     },
     "execution_count": 43,
     "metadata": {},
     "output_type": "execute_result"
    }
   ],
   "source": [
    "mssg.split('.')[0]"
   ]
  },
  {
   "cell_type": "code",
   "execution_count": 46,
   "id": "f0bfdb11-d0f4-42e0-8bf0-fe84e6b539c6",
   "metadata": {
    "tags": []
   },
   "outputs": [
    {
     "name": "stdout",
     "output_type": "stream",
     "text": [
      "jackma\n"
     ]
    }
   ],
   "source": [
    "founder = \"Ali-baba_founder.jackma\"\n",
    "\n",
    "\n",
    "# print surname\n",
    "\n",
    "print(founder[17:23]) # toooo dab way"
   ]
  },
  {
   "cell_type": "code",
   "execution_count": 50,
   "id": "93599dff-d0fd-4126-a718-46c2897caff8",
   "metadata": {
    "tags": []
   },
   "outputs": [
    {
     "name": "stdout",
     "output_type": "stream",
     "text": [
      "jackma\n"
     ]
    }
   ],
   "source": [
    "# instead smartly use -ve indexing\n",
    "\n",
    "print(founder[-6:]) # -6:_  means -6 to till last all"
   ]
  },
  {
   "cell_type": "code",
   "execution_count": 52,
   "id": "36ad3ffb-a3f8-4d85-9653-0bb311415ddc",
   "metadata": {
    "tags": []
   },
   "outputs": [
    {
     "name": "stdout",
     "output_type": "stream",
     "text": [
      "jackma\n"
     ]
    }
   ],
   "source": [
    "# or use spilit like this\n",
    "\n",
    "print(founder.split('.')[-1])"
   ]
  },
  {
   "cell_type": "code",
   "execution_count": 53,
   "id": "c74ee0af-cbf8-480b-a551-14e8e21e601b",
   "metadata": {
    "tags": []
   },
   "outputs": [],
   "source": [
    "mssg = \"hello_world_hy\"\n",
    "\n",
    "# print world"
   ]
  },
  {
   "cell_type": "code",
   "execution_count": 54,
   "id": "3261792c-2254-40c5-a88b-5586bcf2677a",
   "metadata": {
    "tags": []
   },
   "outputs": [
    {
     "data": {
      "text/plain": [
       "'world'"
      ]
     },
     "execution_count": 54,
     "metadata": {},
     "output_type": "execute_result"
    }
   ],
   "source": [
    "mssg.split('_')[-2]"
   ]
  },
  {
   "cell_type": "code",
   "execution_count": 57,
   "id": "9b9f2008-df2f-4b15-bf0e-e39bdbed08ee",
   "metadata": {
    "tags": []
   },
   "outputs": [
    {
     "data": {
      "text/plain": [
       "['I_am', 'active_in', 'CSITAN_Nepal', 'team']"
      ]
     },
     "execution_count": 57,
     "metadata": {},
     "output_type": "execute_result"
    }
   ],
   "source": [
    "mssg = \"I_am.active_in.CSITAN_Nepal.team\"\n",
    "\n",
    "# print CSITAN\n",
    "\n",
    "# method 1\n",
    "\n",
    "tukra = mssg.split('.')\n",
    "tukra"
   ]
  },
  {
   "cell_type": "code",
   "execution_count": 59,
   "id": "f12b390f-0c97-4e13-85c1-63d753c4bfc8",
   "metadata": {
    "tags": []
   },
   "outputs": [
    {
     "data": {
      "text/plain": [
       "'CSITAN'"
      ]
     },
     "execution_count": 59,
     "metadata": {},
     "output_type": "execute_result"
    }
   ],
   "source": [
    "tukra[2].split('_')[0]"
   ]
  },
  {
   "cell_type": "code",
   "execution_count": 60,
   "id": "8de6fb8b-3f80-4b29-918b-df81145128ee",
   "metadata": {
    "tags": []
   },
   "outputs": [
    {
     "data": {
      "text/plain": [
       "'CSITAN'"
      ]
     },
     "execution_count": 60,
     "metadata": {},
     "output_type": "execute_result"
    }
   ],
   "source": [
    "# OR SMARLTY METHOD 2\n",
    "\n",
    "mssg.split('_')[2].split('.')[-1]"
   ]
  },
  {
   "cell_type": "markdown",
   "id": "91370a5c-e866-4078-9b91-85a92c5077f6",
   "metadata": {
    "tags": []
   },
   "source": [
    "# Calculate the average from given data"
   ]
  },
  {
   "cell_type": "code",
   "execution_count": 62,
   "id": "1a79bacd-64d7-487b-bacc-7c0f8ab4f556",
   "metadata": {
    "tags": []
   },
   "outputs": [],
   "source": [
    "row_1 = ['Prabhat', 24, 'Nepali', 'B.Sc.Cs.It', 79.1]\n",
    "\n",
    "row_2 = ['Sunil', 23, 'Nepali', 'B.It', 83.2]\n",
    "\n",
    "row_3 = ['Bhawana', 22, 'Canadian', 'B.E.Computer', 78.4]\n",
    "\n",
    "row_4 = ['Shiva', 23, 'Australian', 'B.It', 72.5]"
   ]
  },
  {
   "cell_type": "code",
   "execution_count": 66,
   "id": "baa5115e-4653-4ca7-ab01-c8d5fd69f1d1",
   "metadata": {
    "tags": []
   },
   "outputs": [
    {
     "name": "stdout",
     "output_type": "stream",
     "text": [
      "78.30000000000001\n",
      "78\n"
     ]
    }
   ],
   "source": [
    "marks_1 = row_1[-1]\n",
    "marks_2 = row_2[-1]\n",
    "marks_3 = row_3[-1]\n",
    "marks_4 = row_4[-1]\n",
    "\n",
    "average = (marks_1+marks_2+marks_3+marks_4)/4\n",
    "\n",
    "print(average)\n",
    "print(round(average))"
   ]
  },
  {
   "attachments": {
    "a682ca51-45a6-4979-8eee-ffaf75346066.png": {
     "image/png": "[encoded data removed]"
    }
   },
   "cell_type": "markdown",
   "id": "fc254d36-2264-4f10-962e-dda1259d2655",
   "metadata": {},
   "source": [
    "![image.png](attachment:a682ca51-45a6-4979-8eee-ffaf75346066.png)"
   ]
  },
  {
   "cell_type": "code",
   "execution_count": 67,
   "id": "d936627c-7f38-49ec-ae1e-447267a6cc11",
   "metadata": {
    "tags": []
   },
   "outputs": [],
   "source": [
    "titanic_movie = ['Titanic','Leonardo Decaprio',1997,1169835,7.9]\n",
    "meet_joe_black_movie = ['Meet Joe Black','Brad Pit',1998,243882,7.2]\n",
    "edge_of_tomorrow_movie = [\"Edge Of Tomorrow\",'Tom cruise',2014,678775,7.9]\n",
    "chennnai_express_movie = [\"Chennai Express\",\"Sarukh Khan\",2013,55643,6.0]\n",
    "the_tourist_movie = [\"The Tourist\",\"Johnny Deep\",2010,244817,6.0]"
   ]
  },
  {
   "cell_type": "code",
   "execution_count": 70,
   "id": "2c4577e0-cf8d-4a64-bcd4-52b079f22e53",
   "metadata": {
    "tags": []
   },
   "outputs": [],
   "source": [
    "titanic_rating_data = [titanic_movie[0],titanic_movie[-2],titanic_movie[-1]]\n",
    "\n",
    "mjb_rating_data = [meet_joe_black_movie[0],meet_joe_black_movie[-2],meet_joe_black_movie[-1]]\n",
    "\n",
    "eot_rating_data = [edge_of_tomorrow_movie[0],edge_of_tomorrow_movie[-2],edge_of_tomorrow_movie[-1]]"
   ]
  },
  {
   "cell_type": "code",
   "execution_count": 73,
   "id": "08e05d10-0e1e-425d-9e02-19ae84e17d09",
   "metadata": {
    "tags": []
   },
   "outputs": [
    {
     "name": "stdout",
     "output_type": "stream",
     "text": [
      "['Titanic', 1169835, 7.9] ['Meet Joe Black', 243882, 7.2] ['Edge Of Tomorrow', 678775, 7.9]\n"
     ]
    }
   ],
   "source": [
    "print(titanic_rating_data,mjb_rating_data,eot_rating_data)"
   ]
  },
  {
   "cell_type": "markdown",
   "id": "7a72e70a-4a01-483d-859f-93651c0ef8b7",
   "metadata": {},
   "source": [
    "## Retriving Elements From List Of Lists"
   ]
  },
  {
   "cell_type": "code",
   "execution_count": 74,
   "id": "fccef405-6ca7-4d97-a0a5-75da867c0a08",
   "metadata": {
    "tags": []
   },
   "outputs": [],
   "source": [
    "fruits_dataset = [[\"Banana\", \"1 dozen\", 85], [\"Pineapple\", \"1 Kg\", 140],\n",
    "                  [\"Apple\", \"1 Kg\", 220], ['Orange', \"1 Kg\", 120]]"
   ]
  },
  {
   "cell_type": "markdown",
   "id": "830be9a9-3ec1-40c5-9d0a-427413da63a2",
   "metadata": {
    "tags": []
   },
   "source": [
    "### print rate of orange"
   ]
  },
  {
   "cell_type": "code",
   "execution_count": 76,
   "id": "66ebe538-5055-4835-af59-e6be7801e085",
   "metadata": {
    "tags": []
   },
   "outputs": [
    {
     "data": {
      "text/plain": [
       "120"
      ]
     },
     "execution_count": 76,
     "metadata": {},
     "output_type": "execute_result"
    }
   ],
   "source": [
    "fruits_dataset[3][2]"
   ]
  },
  {
   "cell_type": "markdown",
   "id": "6c51949d-bb08-4774-b3ed-2bb6af47fe8c",
   "metadata": {
    "tags": []
   },
   "source": [
    "### print the fruit of rate 140"
   ]
  },
  {
   "cell_type": "code",
   "execution_count": 82,
   "id": "cb329b45-f391-4631-9115-30a921e32a7d",
   "metadata": {
    "tags": []
   },
   "outputs": [
    {
     "name": "stdout",
     "output_type": "stream",
     "text": [
      "the fruit is: Pineapple\n"
     ]
    }
   ],
   "source": [
    "for x in fruits_dataset:\n",
    "    if x[2]==140:\n",
    "        print(\"the fruit is:\",x[0])\n",
    "        break"
   ]
  },
  {
   "cell_type": "code",
   "execution_count": 84,
   "id": "e5b79d5d-1061-40a2-adae-9b7e47865d16",
   "metadata": {
    "tags": []
   },
   "outputs": [],
   "source": [
    "student_1 = ['Ram', 'male',23, 'B.C.A', 'Seventh Semester']\n",
    "\n",
    "student_2 = ['Shyam','male',21,'B.C.A', 'Fifth Semester']\n",
    "\n",
    "student_3 = ['Abhishek','male',22, 'B.Sc.Cs.It', 'Seventh Semester']\n",
    "\n",
    "student_4 = ['Mahima','female',20, 'B.Sc.Cs.It', 'Fifth Semester']\n",
    "\n",
    "student_5 = ['Sanjana','female',22, 'B.Sc.Cs.It', 'Seventh Semester']\n"
   ]
  },
  {
   "cell_type": "markdown",
   "id": "d4dcec8c-880e-41ca-8ca3-6934a5607eb8",
   "metadata": {},
   "source": [
    "### from given data print the name of students whoose age is less than 22"
   ]
  },
  {
   "cell_type": "code",
   "execution_count": 85,
   "id": "e6d7de2d-efde-494c-a3e9-e34aa92de4c0",
   "metadata": {
    "tags": []
   },
   "outputs": [],
   "source": [
    "student = [student_1,student_2,student_3,student_4,student_5]"
   ]
  },
  {
   "cell_type": "code",
   "execution_count": 86,
   "id": "81d6fc46-320a-4013-a621-4bd1caa84995",
   "metadata": {
    "tags": []
   },
   "outputs": [
    {
     "data": {
      "text/plain": [
       "[['Ram', 'male', 23, 'B.C.A', 'Seventh Semester'],\n",
       " ['Shyam', 'male', 21, 'B.C.A', 'Fifth Semester'],\n",
       " ['Abhishek', 'male', 22, 'B.Sc.Cs.It', 'Seventh Semester'],\n",
       " ['Mahima', 'female', 20, 'B.Sc.Cs.It', 'Fifth Semester'],\n",
       " ['Sanjana', 'female', 22, 'B.Sc.Cs.It', 'Seventh Semester']]"
      ]
     },
     "execution_count": 86,
     "metadata": {},
     "output_type": "execute_result"
    }
   ],
   "source": [
    "student"
   ]
  },
  {
   "cell_type": "code",
   "execution_count": 88,
   "id": "7f52fe11-964d-4f98-998c-6c80006dd872",
   "metadata": {
    "tags": []
   },
   "outputs": [
    {
     "name": "stdout",
     "output_type": "stream",
     "text": [
      "List of students below age 22 :\n",
      "Shyam\n",
      "Mahima\n"
     ]
    }
   ],
   "source": [
    "print(\"List of students below age 22 :\")\n",
    "for x in student:\n",
    "    if x[2]<22:\n",
    "        print(x[0])"
   ]
  },
  {
   "cell_type": "markdown",
   "id": "448380ba-ebfd-4e3d-aa71-6c47ee0e3d5f",
   "metadata": {},
   "source": [
    "## Dictionaries"
   ]
  },
  {
   "cell_type": "code",
   "execution_count": 94,
   "id": "d26b4901-bb03-42af-bdc3-f05830feec2c",
   "metadata": {
    "tags": []
   },
   "outputs": [],
   "source": [
    "mydict = {\n",
    "    \"name\":\"Roshan\",\n",
    "    \"age\":22\n",
    "}"
   ]
  },
  {
   "cell_type": "code",
   "execution_count": 95,
   "id": "d6990146-61d3-45c1-ad6c-23591af00c2e",
   "metadata": {
    "tags": []
   },
   "outputs": [
    {
     "data": {
      "text/plain": [
       "{'name': 'Roshan', 'age': 22}"
      ]
     },
     "execution_count": 95,
     "metadata": {},
     "output_type": "execute_result"
    }
   ],
   "source": [
    "mydict"
   ]
  },
  {
   "cell_type": "markdown",
   "id": "2b5db4fd-6d28-4f6e-8061-49f2991e5e60",
   "metadata": {
    "tags": []
   },
   "source": [
    "## nested dict or dict wihtin dict"
   ]
  },
  {
   "cell_type": "code",
   "execution_count": 96,
   "id": "67ee23e1-fdcb-42ae-b521-95eb6641827c",
   "metadata": {
    "tags": []
   },
   "outputs": [],
   "source": [
    "mydict = {\n",
    "    \"name\":{\n",
    "        \"firstname\":\"Roshan\",\n",
    "        \"lastname\":\"KC\"\n",
    "    },\n",
    "    \"dob\":{\n",
    "        \"year\":2000,\n",
    "        \"month\":11,\n",
    "        \"day\":11\n",
    "    }\n",
    "}"
   ]
  },
  {
   "cell_type": "code",
   "execution_count": 97,
   "id": "77165b5b-3c62-465a-a618-38bbd8ec74a1",
   "metadata": {
    "tags": []
   },
   "outputs": [
    {
     "data": {
      "text/plain": [
       "{'name': {'firstname': 'Roshan', 'lastname': 'KC'},\n",
       " 'dob': {'year': 2000, 'month': 11, 'day': 11}}"
      ]
     },
     "execution_count": 97,
     "metadata": {},
     "output_type": "execute_result"
    }
   ],
   "source": [
    "mydict"
   ]
  },
  {
   "cell_type": "markdown",
   "id": "967e07c0-20ff-4746-8166-dfa4a94dce89",
   "metadata": {},
   "source": [
    "## print you day of birth"
   ]
  },
  {
   "cell_type": "code",
   "execution_count": 101,
   "id": "fc26da0d-c1bc-4190-8f38-cc2d4d64e22d",
   "metadata": {
    "tags": []
   },
   "outputs": [
    {
     "data": {
      "text/plain": [
       "11"
      ]
     },
     "execution_count": 101,
     "metadata": {},
     "output_type": "execute_result"
    }
   ],
   "source": [
    "mydist['dob']['day']"
   ]
  },
  {
   "cell_type": "markdown",
   "id": "8eb23de0-d6a2-4210-8ae5-bbdcce18d5c6",
   "metadata": {},
   "source": [
    "## QSN\n",
    "Similarly, like we did above; first instantiate an empty dictionary and then create a dictionary with name fvt_colors where you have to specify the favourite colors for five different persons(students)."
   ]
  },
  {
   "cell_type": "code",
   "execution_count": 102,
   "id": "354e605e-f3d8-4e9b-89fc-3ab39865632c",
   "metadata": {
    "tags": []
   },
   "outputs": [],
   "source": [
    "mydict = {}"
   ]
  },
  {
   "cell_type": "code",
   "execution_count": 103,
   "id": "a2a06d2c-d131-4035-a49d-724a4569f90a",
   "metadata": {
    "tags": []
   },
   "outputs": [
    {
     "data": {
      "text/plain": [
       "{'col1': 'red',\n",
       " 'col2': 'pink',\n",
       " 'col3': 'yellow',\n",
       " 'col4': 'green',\n",
       " 'col5': 'white'}"
      ]
     },
     "execution_count": 103,
     "metadata": {},
     "output_type": "execute_result"
    }
   ],
   "source": [
    "mydict['col1']='red'\n",
    "mydict['col2']='pink'\n",
    "mydict['col3']='yellow'\n",
    "mydict['col4']='green'\n",
    "mydict['col5']='white'\n",
    "\n",
    "\n",
    "mydict"
   ]
  },
  {
   "cell_type": "code",
   "execution_count": 105,
   "id": "f271a724-330d-43bb-b457-632caea34b92",
   "metadata": {
    "tags": []
   },
   "outputs": [
    {
     "name": "stdout",
     "output_type": "stream",
     "text": [
      "red pink yellow green white "
     ]
    }
   ],
   "source": [
    "for x in mydict:\n",
    "    print(mydict[x],end=\" \")"
   ]
  },
  {
   "cell_type": "markdown",
   "id": "9e62e682-6afb-4e2f-bf5d-7be04db9bf8a",
   "metadata": {},
   "source": [
    "## count no of each fruits in from given list"
   ]
  },
  {
   "cell_type": "code",
   "execution_count": 112,
   "id": "0b706a15-1a33-49dc-9478-2cc0edf9fadb",
   "metadata": {
    "tags": []
   },
   "outputs": [
    {
     "data": {
      "text/plain": [
       "{'apple': 2, 'ball': 2, 'cat': 1, 'mango': 1}"
      ]
     },
     "execution_count": 112,
     "metadata": {},
     "output_type": "execute_result"
    }
   ],
   "source": [
    "fruits = [\"apple\",\"ball\",\"apple\",\"ball\",\"cat\",\"mango\"]\n",
    "\n",
    "## get unique items using set\n",
    "# mylist = list((set(fruits)))\n",
    "\n",
    "my_dict = {\n",
    "    'apple':0,\n",
    "    'ball':0,\n",
    "    'cat':0,\n",
    "    'mango':0\n",
    "}\n",
    "\n",
    "for x in fruits:\n",
    "    if x == 'apple':\n",
    "        my_dict['apple']+=1\n",
    "    elif x == 'ball':\n",
    "        my_dict['ball']+=1\n",
    "    elif x == 'cat':\n",
    "        my_dict['cat']+=1\n",
    "    else:\n",
    "        my_dict['mango']+=1\n",
    "        \n",
    "my_dict"
   ]
  }
 ],
 "metadata": {
  "kernelspec": {
   "display_name": "Python 3 (ipykernel)",
   "language": "python",
   "name": "python3"
  },
  "language_info": {
   "codemirror_mode": {
    "name": "ipython",
    "version": 3
   },
   "file_extension": ".py",
   "mimetype": "text/x-python",
   "name": "python",
   "nbconvert_exporter": "python",
   "pygments_lexer": "ipython3",
   "version": "3.10.9"
  }
 },
 "nbformat": 4,
 "nbformat_minor": 5
}
