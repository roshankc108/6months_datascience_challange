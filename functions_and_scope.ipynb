{
 "cells": [
  {
   "cell_type": "markdown",
   "id": "7aad2a64-c2b8-45c5-8344-ced4918d205b",
   "metadata": {},
   "source": [
    "## functions in python"
   ]
  },
  {
   "cell_type": "code",
   "execution_count": 10,
   "id": "a0609ab4-5d94-474c-8322-32775542f4b0",
   "metadata": {
    "tags": []
   },
   "outputs": [
    {
     "name": "stdin",
     "output_type": "stream",
     "text": [
      " RoshanKC\n"
     ]
    },
    {
     "name": "stdout",
     "output_type": "stream",
     "text": [
      "hi ! I'm  RoshanKC\n"
     ]
    }
   ],
   "source": [
    "def start(naam):\n",
    "    print(\"hi ! I'm \",naam)\n",
    "\n",
    "naam = input()\n",
    "start(naam)"
   ]
  },
  {
   "cell_type": "markdown",
   "id": "c91426ad-de4c-4f1e-8395-2e111d4700a9",
   "metadata": {},
   "source": [
    "### Default Parameter Value"
   ]
  },
  {
   "cell_type": "code",
   "execution_count": 13,
   "id": "a4cd7d76-1fc6-4df6-887b-1819330907ba",
   "metadata": {
    "tags": []
   },
   "outputs": [
    {
     "name": "stdout",
     "output_type": "stream",
     "text": [
      "Name    : Roshan K.C.\n",
      "Faculty :  B.Sc.CSIT\n",
      "College :  Lumbibini City Colege\n"
     ]
    }
   ],
   "source": [
    "def college_form(name,faculty,college = \"Lumbibini City Colege\"):\n",
    "    print(\"Name    :\",name)\n",
    "    print(\"Faculty : \",faculty)\n",
    "    print(\"College : \",college)\n",
    "\n",
    "college_form(\"Roshan K.C.\",\"B.Sc.CSIT\")"
   ]
  },
  {
   "cell_type": "markdown",
   "id": "c81a3879-169e-4309-9771-c78a1b7ec936",
   "metadata": {},
   "source": [
    "# We can intilize an emty list using : temp = []  or temp = list(())"
   ]
  },
  {
   "cell_type": "markdown",
   "id": "92001a3a-27d4-489a-8bf3-f749f41b6e48",
   "metadata": {
    "tags": []
   },
   "source": [
    "## always remember to use .append(x) or .insert(index) to add data to empty list"
   ]
  },
  {
   "cell_type": "code",
   "execution_count": 19,
   "id": "ecd000ee-0638-4563-923b-7e7f5d3ec8a6",
   "metadata": {
    "tags": []
   },
   "outputs": [
    {
     "name": "stdin",
     "output_type": "stream",
     "text": [
      "Array length : 5\n",
      " one\n",
      " two\n",
      " three\n",
      " four\n",
      " five\n"
     ]
    },
    {
     "name": "stdout",
     "output_type": "stream",
     "text": [
      "one two three four five "
     ]
    }
   ],
   "source": [
    "mylist = []\n",
    "limit = int(input(\"Array length :\"))\n",
    "\n",
    "for x in range(limit):\n",
    "    mylist.append(input())\n",
    "\n",
    "def run(data):\n",
    "    for x in data:\n",
    "        print(x,end=\" \")\n",
    "\n",
    "run(mylist)\n"
   ]
  },
  {
   "cell_type": "code",
   "execution_count": null,
   "id": "de2944d6-a49a-4d20-8610-6f064b7b7cd1",
   "metadata": {},
   "outputs": [],
   "source": []
  },
  {
   "cell_type": "code",
   "execution_count": null,
   "id": "7878e677-d6f3-49b2-b063-dd6f666f8afc",
   "metadata": {},
   "outputs": [],
   "source": []
  },
  {
   "cell_type": "markdown",
   "id": "d5e2b56b-2ec7-44c9-a7aa-34a763339ff3",
   "metadata": {},
   "source": [
    "## Return Values :"
   ]
  },
  {
   "cell_type": "code",
   "execution_count": 23,
   "id": "8fa86008-5c0b-4700-a32b-99ea39fdbaa7",
   "metadata": {
    "tags": []
   },
   "outputs": [
    {
     "name": "stdin",
     "output_type": "stream",
     "text": [
      " 9\n"
     ]
    },
    {
     "name": "stdout",
     "output_type": "stream",
     "text": [
      "Square of  9  =  81\n",
      "Cube of  9  =  729\n"
     ]
    }
   ],
   "source": [
    "def sqr(x):\n",
    "    return x*x # better use x**2\n",
    "\n",
    "def cube(x):\n",
    "    return x*x*x # better use x**3\n",
    "\n",
    "\n",
    "num = int(input())\n",
    "\n",
    "print(\"Square of \",num,\" = \",sqr(num))\n",
    "print(\"Cube of \",num,\" = \",cube(num))"
   ]
  },
  {
   "cell_type": "code",
   "execution_count": null,
   "id": "3f8429e2-1706-4e3f-8c46-63099eda4fea",
   "metadata": {},
   "outputs": [],
   "source": []
  },
  {
   "cell_type": "code",
   "execution_count": null,
   "id": "b8f76ea5-22e2-4371-8a82-59751d7895d6",
   "metadata": {},
   "outputs": [],
   "source": []
  },
  {
   "cell_type": "code",
   "execution_count": null,
   "id": "8aef8432-1eea-4b91-831b-4b66c9f6f5cd",
   "metadata": {},
   "outputs": [],
   "source": []
  },
  {
   "cell_type": "markdown",
   "id": "d778e970-f5d0-4f66-b347-386b167f812f",
   "metadata": {
    "tags": []
   },
   "source": [
    "## SCOPE IN PYTHON"
   ]
  },
  {
   "cell_type": "markdown",
   "id": "cfd196a0-771d-4c22-bad1-6436133fcbc4",
   "metadata": {},
   "source": [
    "<h3>\n",
    "-> Local Scope : A variable created inside a function is available inside that function.\n",
    "<br><br>\n",
    "-> Global Scope : A variable created in the main body of the Python code is a global variable and belongs to the global scope.\n",
    "<br><br>\n",
    "-> Global Keyword : The global keyword makes the variable global.\n",
    "    <br>If you need to create a global variable, but are stuck in the local scope, you can use the global keyword.\n",
    "\n",
    "\n",
    "</h3>"
   ]
  },
  {
   "cell_type": "code",
   "execution_count": 26,
   "id": "ed387d57-2779-4a44-878e-3b2c9d3f07e7",
   "metadata": {
    "tags": []
   },
   "outputs": [
    {
     "name": "stdout",
     "output_type": "stream",
     "text": [
      "6\n",
      "10\n"
     ]
    }
   ],
   "source": [
    "#local Scope\n",
    "x = 10\n",
    "\n",
    "def myfunc():\n",
    "    x = 6\n",
    "    print(x)\n",
    "\n",
    "myfunc()\n",
    "print(x)"
   ]
  },
  {
   "cell_type": "code",
   "execution_count": 27,
   "id": "09142357-1338-4fe1-8ff0-094b989cdfd1",
   "metadata": {
    "tags": []
   },
   "outputs": [
    {
     "name": "stdout",
     "output_type": "stream",
     "text": [
      "10\n",
      "10\n"
     ]
    }
   ],
   "source": [
    "#global scope\n",
    "\n",
    "x = 10\n",
    "\n",
    "def myfunc():\n",
    "    print(x)\n",
    "    \n",
    "myfunc()\n",
    "print(x)"
   ]
  },
  {
   "cell_type": "markdown",
   "id": "92d4ac63-f65e-4be8-b870-38ccd214f275",
   "metadata": {
    "tags": []
   },
   "source": [
    "### global keyword"
   ]
  },
  {
   "cell_type": "code",
   "execution_count": 31,
   "id": "14734d23-c97d-4506-b460-f82fb22168c3",
   "metadata": {
    "tags": []
   },
   "outputs": [
    {
     "name": "stdout",
     "output_type": "stream",
     "text": [
      "global scope before changes: 96\n",
      "in local func: 69\n",
      "global scope after changes: 69\n"
     ]
    }
   ],
   "source": [
    "z = 96\n",
    "\n",
    "print(\"global scope before changes:\",x)\n",
    "\n",
    "def myfunc():\n",
    "    global z\n",
    "    z = 69\n",
    "    print(\"in local func:\",z)\n",
    "\n",
    "myfunc()\n",
    "\n",
    "print(\"global scope after changes:\",z)"
   ]
  },
  {
   "cell_type": "code",
   "execution_count": null,
   "id": "f312b244-95c1-4ba5-8701-d745ab732551",
   "metadata": {},
   "outputs": [],
   "source": []
  },
  {
   "cell_type": "markdown",
   "id": "5cdff31d-8e16-4790-9b3a-b01afecb96b3",
   "metadata": {
    "tags": []
   },
   "source": [
    "# THIS MUCH FOR TODAY"
   ]
  }
 ],
 "metadata": {
  "kernelspec": {
   "display_name": "Python 3 (ipykernel)",
   "language": "python",
   "name": "python3"
  },
  "language_info": {
   "codemirror_mode": {
    "name": "ipython",
    "version": 3
   },
   "file_extension": ".py",
   "mimetype": "text/x-python",
   "name": "python",
   "nbconvert_exporter": "python",
   "pygments_lexer": "ipython3",
   "version": "3.10.9"
  }
 },
 "nbformat": 4,
 "nbformat_minor": 5
}
